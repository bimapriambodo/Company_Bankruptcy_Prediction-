{
 "cells": [
  {
   "cell_type": "code",
   "execution_count": 2,
   "id": "bd12a06a-a3ff-4fae-885e-0583672fd3e8",
   "metadata": {},
   "outputs": [],
   "source": [
    "from sklearn.linear_model import LogisticRegression\n",
    "from sklearn.tree import DecisionTreeClassifier\n",
    "from sklearn.ensemble import RandomForestClassifier\n",
    "from sklearn.neighbors import KNeighborsClassifier\n",
    "from xgboost import XGBClassifier\n",
    "\n",
    "from sklearn.metrics import classification_report, ConfusionMatrixDisplay, roc_curve, roc_auc_score\n",
    "from sklearn.metrics import average_precision_score,balanced_accuracy_score, auc,confusion_matrix, cohen_kappa_score, accuracy_score, roc_auc_score, roc_curve, precision_recall_curve, f1_score, recall_score, precision_score\n",
    "from sklearn.metrics import classification_report, accuracy_score\n",
    "from sklearn.model_selection import RandomizedSearchCV, GridSearchCV\n",
    "from sklearn.model_selection import StratifiedKFold, cross_validate, train_test_split, KFold, cross_val_score, RepeatedStratifiedKFold\n",
    "\n",
    "from datetime import datetime\n",
    "from tqdm import tqdm\n",
    "import yaml\n",
    "import joblib\n",
    "import json\n",
    "import pandas as pd\n",
    "import matplotlib.pyplot as plt\n",
    "import seaborn as sns\n",
    "import copy\n",
    "import hashlib"
   ]
  },
  {
   "cell_type": "markdown",
   "id": "be21b6f2-d8cd-4854-ba54-0e54fbc12250",
   "metadata": {},
   "source": [
    "## 1. Load Processed Data"
   ]
  },
  {
   "cell_type": "code",
   "execution_count": 3,
   "id": "c8d421b0-c707-4efc-b994-8cc4f2b1b166",
   "metadata": {},
   "outputs": [],
   "source": [
    "x_rus = joblib.load(\"../1_data/processed_data/x_rus.pkl\")\n",
    "y_rus = joblib.load(\"../1_data/processed_data/y_rus.pkl\")\n",
    "\n",
    "x_sm = joblib.load(\"../1_data/processed_data/x_sm.pkl\")\n",
    "y_sm = joblib.load(\"../1_data/processed_data/y_sm.pkl\")\n",
    "\n",
    "x_test = joblib.load(\"../1_data/processed_data/X_test.pkl\")\n",
    "y_test = joblib.load(\"../1_data/processed_data/y_test.pkl\")"
   ]
  },
  {
   "cell_type": "markdown",
   "id": "e59d2438-dd96-4a2b-a804-8be8511940b6",
   "metadata": {
    "id": "y7rXwmTa7Dmr"
   },
   "source": [
    "## 2. Create Log Template"
   ]
  },
  {
   "cell_type": "code",
   "execution_count": 4,
   "id": "31f9b282-a2c7-45fb-be40-aefe7466c655",
   "metadata": {
    "id": "f3tcDI8_67v-"
   },
   "outputs": [],
   "source": [
    "def time_stamp():\n",
    "    return datetime.now()"
   ]
  },
  {
   "cell_type": "code",
   "execution_count": 5,
   "id": "1b146ceb-d96f-4349-9f9c-80a78201b4c3",
   "metadata": {
    "id": "PaiQbB247F8F"
   },
   "outputs": [],
   "source": [
    "def create_log_template():\n",
    "    logger = {\n",
    "        \"model_name\" : [],\n",
    "        \"model_uid\" : [],\n",
    "        \"training_time\" : [],\n",
    "        \"training_date\" : [],\n",
    "        \"performance\" : [],\n",
    "        \"f1_score_avg\" : [],\n",
    "        \"precision_avg\" : [],\n",
    "        \"recall_avg\" : [],\n",
    "        \"data_configurations\" : [],\n",
    "    }\n",
    "\n",
    "    return logger"
   ]
  },
  {
   "cell_type": "code",
   "execution_count": 6,
   "id": "23ad7046-5fec-4db8-84f2-28d44fa822a4",
   "metadata": {
    "id": "SpoFLhBN7H9e"
   },
   "outputs": [],
   "source": [
    "def training_log_updater(current_log, log_path):\n",
    "    current_log = current_log.copy()\n",
    "\n",
    "    try:\n",
    "        with open(log_path, \"r\") as file:\n",
    "            last_log = json.load(file)\n",
    "        file.close()\n",
    "    except FileNotFoundError as ffe:\n",
    "        with open(log_path, \"w\") as file:\n",
    "            file.write(\"[]\")\n",
    "        file.close()\n",
    "        with open(log_path, \"r\") as file:\n",
    "            last_log = json.load(file)\n",
    "        file.close()\n",
    "    \n",
    "    last_log.append(current_log)\n",
    "\n",
    "    with open(log_path, \"w\") as file:\n",
    "        json.dump(last_log, file)\n",
    "        file.close()\n",
    "\n",
    "    return last_log"
   ]
  },
  {
   "cell_type": "markdown",
   "id": "80702652-7fb1-46e4-b026-b552a15f0365",
   "metadata": {},
   "source": [
    "## 3. Baseline Model using Dummy Classifier"
   ]
  },
  {
   "cell_type": "code",
   "execution_count": 7,
   "id": "bc30604d-11ee-4510-98c6-6d5d4da6d7b8",
   "metadata": {},
   "outputs": [],
   "source": [
    "from sklearn.dummy import DummyClassifier"
   ]
  },
  {
   "cell_type": "code",
   "execution_count": 8,
   "id": "5e1f0238-6ffe-40b6-8cc7-76dd52c7c28f",
   "metadata": {},
   "outputs": [
    {
     "data": {
      "text/html": [
       "<style>#sk-container-id-1 {color: black;background-color: white;}#sk-container-id-1 pre{padding: 0;}#sk-container-id-1 div.sk-toggleable {background-color: white;}#sk-container-id-1 label.sk-toggleable__label {cursor: pointer;display: block;width: 100%;margin-bottom: 0;padding: 0.3em;box-sizing: border-box;text-align: center;}#sk-container-id-1 label.sk-toggleable__label-arrow:before {content: \"▸\";float: left;margin-right: 0.25em;color: #696969;}#sk-container-id-1 label.sk-toggleable__label-arrow:hover:before {color: black;}#sk-container-id-1 div.sk-estimator:hover label.sk-toggleable__label-arrow:before {color: black;}#sk-container-id-1 div.sk-toggleable__content {max-height: 0;max-width: 0;overflow: hidden;text-align: left;background-color: #f0f8ff;}#sk-container-id-1 div.sk-toggleable__content pre {margin: 0.2em;color: black;border-radius: 0.25em;background-color: #f0f8ff;}#sk-container-id-1 input.sk-toggleable__control:checked~div.sk-toggleable__content {max-height: 200px;max-width: 100%;overflow: auto;}#sk-container-id-1 input.sk-toggleable__control:checked~label.sk-toggleable__label-arrow:before {content: \"▾\";}#sk-container-id-1 div.sk-estimator input.sk-toggleable__control:checked~label.sk-toggleable__label {background-color: #d4ebff;}#sk-container-id-1 div.sk-label input.sk-toggleable__control:checked~label.sk-toggleable__label {background-color: #d4ebff;}#sk-container-id-1 input.sk-hidden--visually {border: 0;clip: rect(1px 1px 1px 1px);clip: rect(1px, 1px, 1px, 1px);height: 1px;margin: -1px;overflow: hidden;padding: 0;position: absolute;width: 1px;}#sk-container-id-1 div.sk-estimator {font-family: monospace;background-color: #f0f8ff;border: 1px dotted black;border-radius: 0.25em;box-sizing: border-box;margin-bottom: 0.5em;}#sk-container-id-1 div.sk-estimator:hover {background-color: #d4ebff;}#sk-container-id-1 div.sk-parallel-item::after {content: \"\";width: 100%;border-bottom: 1px solid gray;flex-grow: 1;}#sk-container-id-1 div.sk-label:hover label.sk-toggleable__label {background-color: #d4ebff;}#sk-container-id-1 div.sk-serial::before {content: \"\";position: absolute;border-left: 1px solid gray;box-sizing: border-box;top: 0;bottom: 0;left: 50%;z-index: 0;}#sk-container-id-1 div.sk-serial {display: flex;flex-direction: column;align-items: center;background-color: white;padding-right: 0.2em;padding-left: 0.2em;position: relative;}#sk-container-id-1 div.sk-item {position: relative;z-index: 1;}#sk-container-id-1 div.sk-parallel {display: flex;align-items: stretch;justify-content: center;background-color: white;position: relative;}#sk-container-id-1 div.sk-item::before, #sk-container-id-1 div.sk-parallel-item::before {content: \"\";position: absolute;border-left: 1px solid gray;box-sizing: border-box;top: 0;bottom: 0;left: 50%;z-index: -1;}#sk-container-id-1 div.sk-parallel-item {display: flex;flex-direction: column;z-index: 1;position: relative;background-color: white;}#sk-container-id-1 div.sk-parallel-item:first-child::after {align-self: flex-end;width: 50%;}#sk-container-id-1 div.sk-parallel-item:last-child::after {align-self: flex-start;width: 50%;}#sk-container-id-1 div.sk-parallel-item:only-child::after {width: 0;}#sk-container-id-1 div.sk-dashed-wrapped {border: 1px dashed gray;margin: 0 0.4em 0.5em 0.4em;box-sizing: border-box;padding-bottom: 0.4em;background-color: white;}#sk-container-id-1 div.sk-label label {font-family: monospace;font-weight: bold;display: inline-block;line-height: 1.2em;}#sk-container-id-1 div.sk-label-container {text-align: center;}#sk-container-id-1 div.sk-container {/* jupyter's `normalize.less` sets `[hidden] { display: none; }` but bootstrap.min.css set `[hidden] { display: none !important; }` so we also need the `!important` here to be able to override the default hidden behavior on the sphinx rendered scikit-learn.org. See: https://github.com/scikit-learn/scikit-learn/issues/21755 */display: inline-block !important;position: relative;}#sk-container-id-1 div.sk-text-repr-fallback {display: none;}</style><div id=\"sk-container-id-1\" class=\"sk-top-container\"><div class=\"sk-text-repr-fallback\"><pre>DummyClassifier(random_state=1, strategy=&#x27;uniform&#x27;)</pre><b>In a Jupyter environment, please rerun this cell to show the HTML representation or trust the notebook. <br />On GitHub, the HTML representation is unable to render, please try loading this page with nbviewer.org.</b></div><div class=\"sk-container\" hidden><div class=\"sk-item\"><div class=\"sk-estimator sk-toggleable\"><input class=\"sk-toggleable__control sk-hidden--visually\" id=\"sk-estimator-id-1\" type=\"checkbox\" checked><label for=\"sk-estimator-id-1\" class=\"sk-toggleable__label sk-toggleable__label-arrow\">DummyClassifier</label><div class=\"sk-toggleable__content\"><pre>DummyClassifier(random_state=1, strategy=&#x27;uniform&#x27;)</pre></div></div></div></div></div>"
      ],
      "text/plain": [
       "DummyClassifier(random_state=1, strategy='uniform')"
      ]
     },
     "execution_count": 8,
     "metadata": {},
     "output_type": "execute_result"
    }
   ],
   "source": [
    "dummy_clf = DummyClassifier(strategy=\"uniform\", random_state=1)\n",
    "dummy_clf.fit(x_sm, y_sm)"
   ]
  },
  {
   "cell_type": "code",
   "execution_count": 9,
   "id": "8cfa7a93-aece-4924-bb2b-41dcb106e36f",
   "metadata": {},
   "outputs": [
    {
     "data": {
      "text/plain": [
       "0.4985227272727273"
      ]
     },
     "execution_count": 9,
     "metadata": {},
     "output_type": "execute_result"
    }
   ],
   "source": [
    "dummy_clf.score(x_sm, y_sm)"
   ]
  },
  {
   "cell_type": "code",
   "execution_count": 10,
   "id": "ff448de9-692e-4550-ac71-097ba8c655f5",
   "metadata": {},
   "outputs": [
    {
     "data": {
      "text/plain": [
       "0.5177664974619289"
      ]
     },
     "execution_count": 10,
     "metadata": {},
     "output_type": "execute_result"
    }
   ],
   "source": [
    "dummy_clf.score(x_test,y_test)"
   ]
  },
  {
   "cell_type": "markdown",
   "id": "2ba09951-ef58-4591-8e05-9fed12e4a1dd",
   "metadata": {},
   "source": [
    "**Comment**:\n",
    "\n",
    "Sebelum melakukan modelling dengan baseline model memakai algoritam tertentu, pastikan membuat baseline model paling basic.\n",
    "Dummy model disini mendapatkan score akurasi 0.51 di mana jika dalam modeling kita tidak tembus dengan score 0.51 akurasi, maka model yang dibangun tidak ada gunanya."
   ]
  },
  {
   "cell_type": "markdown",
   "id": "b8f29662-9078-41ce-b349-2fcc6095e24f",
   "metadata": {
    "id": "AO0vNdP37Oe4"
   },
   "source": [
    "## 4. Training and Evaluation"
   ]
  },
  {
   "cell_type": "markdown",
   "id": "8b66c591-23d8-4b5b-8cf8-5763ef21a879",
   "metadata": {
    "id": "4zD0tlzr7TOM"
   },
   "source": [
    "### Initialie Model Object"
   ]
  },
  {
   "cell_type": "code",
   "execution_count": 11,
   "id": "ced15889-c546-456c-bc74-2ef2168da33f",
   "metadata": {
    "id": "gGEkhE6q7Kfl"
   },
   "outputs": [],
   "source": [
    "lgr_baseline = LogisticRegression()\n",
    "dct_baseline = DecisionTreeClassifier()\n",
    "rfc_baseline = RandomForestClassifier()\n",
    "knn_baseline = KNeighborsClassifier()\n",
    "xgb_baseline = XGBClassifier()"
   ]
  },
  {
   "cell_type": "code",
   "execution_count": 12,
   "id": "9859a4c9-ab47-4be4-bc7a-510219474cdd",
   "metadata": {
    "id": "lxMWhYP77XMF"
   },
   "outputs": [],
   "source": [
    "list_of_model = {\n",
    "    \"undersampling\" : [\n",
    "        { \"model_name\": lgr_baseline.__class__.__name__, \"model_object\": lgr_baseline, \"model_uid\": \"\"},\n",
    "        { \"model_name\": dct_baseline.__class__.__name__, \"model_object\": dct_baseline, \"model_uid\": \"\"},\n",
    "        { \"model_name\": rfc_baseline.__class__.__name__, \"model_object\": rfc_baseline, \"model_uid\": \"\"},\n",
    "        { \"model_name\": knn_baseline.__class__.__name__, \"model_object\": knn_baseline, \"model_uid\": \"\"},\n",
    "        { \"model_name\": xgb_baseline.__class__.__name__, \"model_object\": xgb_baseline, \"model_uid\": \"\"}\n",
    "        ],\n",
    "    \"smote\" : [\n",
    "        { \"model_name\": lgr_baseline.__class__.__name__, \"model_object\": lgr_baseline, \"model_uid\": \"\"},\n",
    "        { \"model_name\": dct_baseline.__class__.__name__, \"model_object\": dct_baseline, \"model_uid\": \"\"},\n",
    "        { \"model_name\": rfc_baseline.__class__.__name__, \"model_object\": rfc_baseline, \"model_uid\": \"\"},\n",
    "        { \"model_name\": knn_baseline.__class__.__name__, \"model_object\": knn_baseline, \"model_uid\": \"\"},\n",
    "        { \"model_name\": xgb_baseline.__class__.__name__, \"model_object\": xgb_baseline, \"model_uid\": \"\"}\n",
    "        ],\n",
    "    }"
   ]
  },
  {
   "cell_type": "code",
   "execution_count": 13,
   "id": "1b5ffd85-f286-40aa-a058-760b23cd374e",
   "metadata": {
    "id": "EOe4PrXN7aer"
   },
   "outputs": [],
   "source": [
    "def train_eval_model(list_of_model, prefix_model_name, x_train, y_train, data_configuration_name, x_valid, y_valid, log_path):\n",
    "\n",
    "    list_of_model = copy.deepcopy(list_of_model)\n",
    "    logger = create_log_template()\n",
    "\n",
    "    for model in tqdm(list_of_model):    \n",
    "        model_name = prefix_model_name + \"-\" + model[\"model_name\"]\n",
    "\n",
    "        start_time = time_stamp()\n",
    "        model[\"model_object\"].fit(x_train, y_train)\n",
    "        finished_time = time_stamp()\n",
    "\n",
    "        elapsed_time = finished_time - start_time\n",
    "        elapsed_time = elapsed_time.total_seconds()\n",
    "\n",
    "        y_pred = model[\"model_object\"].predict(x_valid)\n",
    "        performance = classification_report(y_valid, y_pred, output_dict = True)\n",
    "\n",
    "        plain_id = str(start_time) + str(finished_time)\n",
    "        chiper_id = hashlib.md5(plain_id.encode()).hexdigest()\n",
    "\n",
    "        model[\"model_uid\"] = chiper_id\n",
    "\n",
    "        logger[\"model_name\"].append(model_name)\n",
    "        logger[\"model_uid\"].append(chiper_id)\n",
    "        logger[\"training_time\"].append(elapsed_time)\n",
    "        logger[\"training_date\"].append(str(start_time))\n",
    "        logger[\"performance\"].append(performance)\n",
    "        logger[\"f1_score_avg\"].append(performance[\"macro avg\"][\"f1-score\"])\n",
    "        logger[\"precision_avg\"].append(performance[\"macro avg\"][\"precision\"])\n",
    "        logger[\"recall_avg\"].append(performance[\"macro avg\"][\"recall\"])\n",
    "        logger[\"data_configurations\"].append(data_configuration_name)\n",
    "\n",
    "    training_log = training_log_updater(logger, log_path)\n",
    "\n",
    "    return training_log, list_of_model, performance"
   ]
  },
  {
   "cell_type": "markdown",
   "id": "4e1e8d02-18d1-431c-98cb-b0c1be07ba7f",
   "metadata": {
    "id": "lUUVAePD7s56"
   },
   "source": [
    "### Baseline Model Undersampling"
   ]
  },
  {
   "cell_type": "code",
   "execution_count": 14,
   "id": "0f9ad6f2-af0b-4d04-a847-dd7fabd30d21",
   "metadata": {},
   "outputs": [
    {
     "name": "stderr",
     "output_type": "stream",
     "text": [
      "  0%|                                                     | 0/5 [00:00<?, ?it/s]/home/bimapriambodo/anaconda3/envs/skuy/lib/python3.9/site-packages/sklearn/utils/validation.py:1111: DataConversionWarning: A column-vector y was passed when a 1d array was expected. Please change the shape of y to (n_samples, ), for example using ravel().\n",
      "  y = column_or_1d(y, warn=True)\n",
      "/tmp/ipykernel_8569/354089643.py:10: DataConversionWarning: A column-vector y was passed when a 1d array was expected. Please change the shape of y to (n_samples,), for example using ravel().\n",
      "  model[\"model_object\"].fit(x_train, y_train)\n",
      " 60%|███████████████████████████                  | 3/5 [00:00<00:00, 12.88it/s]/home/bimapriambodo/anaconda3/envs/skuy/lib/python3.9/site-packages/sklearn/neighbors/_classification.py:207: DataConversionWarning: A column-vector y was passed when a 1d array was expected. Please change the shape of y to (n_samples,), for example using ravel().\n",
      "  return self._fit(X, y)\n",
      "100%|█████████████████████████████████████████████| 5/5 [00:00<00:00,  7.45it/s]\n"
     ]
    }
   ],
   "source": [
    "training_log, list_of_model_rus, performance = train_eval_model(\n",
    "    list_of_model[\"undersampling\"],\n",
    "    \"baseline_model\",\n",
    "    x_rus,\n",
    "    y_rus,\n",
    "    \"undersampling\",\n",
    "    x_test,\n",
    "    y_test,\n",
    "    \"../5_log/training_log.json\"\n",
    ")"
   ]
  },
  {
   "cell_type": "code",
   "execution_count": 15,
   "id": "8e99262a-a810-4aae-92a5-39822335a669",
   "metadata": {},
   "outputs": [],
   "source": [
    "list_of_model[\"undersampling\"] = copy.deepcopy(list_of_model_rus)"
   ]
  },
  {
   "cell_type": "markdown",
   "id": "5dae1b63-d6dd-4c72-9452-1b45e2f707f1",
   "metadata": {
    "id": "_auMXjDM-d6m"
   },
   "source": [
    "### Baseline Model SMOTE"
   ]
  },
  {
   "cell_type": "code",
   "execution_count": 16,
   "id": "e46cf7fe-ee0b-4692-8f7b-c0a6e9ac4570",
   "metadata": {
    "colab": {
     "base_uri": "https://localhost:8080/"
    },
    "id": "BCYCyOIm-g1e",
    "outputId": "8b911a0b-983f-4bcb-b4cd-1e34fa4836bd"
   },
   "outputs": [
    {
     "name": "stderr",
     "output_type": "stream",
     "text": [
      "  0%|                                                     | 0/5 [00:00<?, ?it/s]/home/bimapriambodo/anaconda3/envs/skuy/lib/python3.9/site-packages/sklearn/utils/validation.py:1111: DataConversionWarning: A column-vector y was passed when a 1d array was expected. Please change the shape of y to (n_samples, ), for example using ravel().\n",
      "  y = column_or_1d(y, warn=True)\n",
      " 40%|██████████████████                           | 2/5 [00:00<00:00, 11.18it/s]/tmp/ipykernel_8569/354089643.py:10: DataConversionWarning: A column-vector y was passed when a 1d array was expected. Please change the shape of y to (n_samples,), for example using ravel().\n",
      "  model[\"model_object\"].fit(x_train, y_train)\n",
      "/home/bimapriambodo/anaconda3/envs/skuy/lib/python3.9/site-packages/sklearn/neighbors/_classification.py:207: DataConversionWarning: A column-vector y was passed when a 1d array was expected. Please change the shape of y to (n_samples,), for example using ravel().\n",
      "  return self._fit(X, y)\n",
      "100%|█████████████████████████████████████████████| 5/5 [00:02<00:00,  2.40it/s]\n"
     ]
    }
   ],
   "source": [
    "training_log, list_of_model_sm, performance = train_eval_model(\n",
    "    list_of_model[\"smote\"],\n",
    "    \"baseline_model\",\n",
    "    x_sm,\n",
    "    y_sm,\n",
    "    \"smote\",\n",
    "    x_test,\n",
    "    y_test,\n",
    "    \"../5_log/training_log.json\"\n",
    ")"
   ]
  },
  {
   "cell_type": "code",
   "execution_count": 17,
   "id": "14a6e162-1e8d-409a-8dcc-86a3366b9436",
   "metadata": {
    "id": "SyGfJLR4Qv5I"
   },
   "outputs": [],
   "source": [
    "list_of_model[\"smote\"] = copy.deepcopy(list_of_model_sm)"
   ]
  },
  {
   "cell_type": "markdown",
   "id": "d2ca5669-901c-4afa-aab5-273cfc6a8be2",
   "metadata": {
    "id": "VeWMd3Lh-5nl"
   },
   "source": [
    "### Best Performance Baseline MOdel"
   ]
  },
  {
   "cell_type": "code",
   "execution_count": 18,
   "id": "a0ef3350-e8e8-49ac-bead-2a242c4bba04",
   "metadata": {
    "id": "FX7Ykzvw-qHZ"
   },
   "outputs": [],
   "source": [
    "def training_log_to_df(training_log):\n",
    "    training_res = pd.DataFrame()\n",
    "\n",
    "    for log in tqdm(training_log):\n",
    "        training_res = pd.concat([training_res, pd.DataFrame(log)])\n",
    "    \n",
    "    training_res.sort_values([\"f1_score_avg\", \"training_time\"], ascending = [False, True], inplace = True)\n",
    "    training_res.reset_index(inplace = True, drop = True)\n",
    "    \n",
    "    return training_res"
   ]
  },
  {
   "cell_type": "code",
   "execution_count": 19,
   "id": "f4efce9e-68c3-4b6e-812a-e4d39788cb9a",
   "metadata": {
    "colab": {
     "base_uri": "https://localhost:8080/"
    },
    "id": "_-SjG3xw-74N",
    "outputId": "0b00549f-a957-4aa3-f517-10014ef19005"
   },
   "outputs": [
    {
     "name": "stderr",
     "output_type": "stream",
     "text": [
      "100%|████████████████████████████████████████████| 2/2 [00:00<00:00, 855.98it/s]\n"
     ]
    }
   ],
   "source": [
    "training_res = training_log_to_df(training_log)"
   ]
  },
  {
   "cell_type": "code",
   "execution_count": 20,
   "id": "d72f0c97-c631-4e20-9500-38a3d70fd7eb",
   "metadata": {
    "colab": {
     "base_uri": "https://localhost:8080/",
     "height": 818
    },
    "id": "sYR0ZLF5--Fb",
    "outputId": "846a0c5f-149b-4a16-e3bb-5c7ce9a1324c"
   },
   "outputs": [
    {
     "data": {
      "text/html": [
       "<div>\n",
       "<style scoped>\n",
       "    .dataframe tbody tr th:only-of-type {\n",
       "        vertical-align: middle;\n",
       "    }\n",
       "\n",
       "    .dataframe tbody tr th {\n",
       "        vertical-align: top;\n",
       "    }\n",
       "\n",
       "    .dataframe thead th {\n",
       "        text-align: right;\n",
       "    }\n",
       "</style>\n",
       "<table border=\"1\" class=\"dataframe\">\n",
       "  <thead>\n",
       "    <tr style=\"text-align: right;\">\n",
       "      <th></th>\n",
       "      <th>model_name</th>\n",
       "      <th>model_uid</th>\n",
       "      <th>training_time</th>\n",
       "      <th>training_date</th>\n",
       "      <th>performance</th>\n",
       "      <th>f1_score_avg</th>\n",
       "      <th>precision_avg</th>\n",
       "      <th>recall_avg</th>\n",
       "      <th>data_configurations</th>\n",
       "    </tr>\n",
       "  </thead>\n",
       "  <tbody>\n",
       "    <tr>\n",
       "      <th>0</th>\n",
       "      <td>baseline_model-XGBClassifier</td>\n",
       "      <td>83695d31ed151f48fd07120cd62b65b6</td>\n",
       "      <td>0.692484</td>\n",
       "      <td>2022-12-04 17:17:50.305654</td>\n",
       "      <td>{'0': {'precision': 0.976679104477612, 'recall...</td>\n",
       "      <td>0.778919</td>\n",
       "      <td>0.747430</td>\n",
       "      <td>0.823470</td>\n",
       "      <td>smote</td>\n",
       "    </tr>\n",
       "    <tr>\n",
       "      <th>1</th>\n",
       "      <td>baseline_model-RandomForestClassifier</td>\n",
       "      <td>c0195fe945bfd837ba7ab17991ad1943</td>\n",
       "      <td>1.148583</td>\n",
       "      <td>2022-12-04 17:17:49.098131</td>\n",
       "      <td>{'0': {'precision': 0.9743346007604563, 'recal...</td>\n",
       "      <td>0.735735</td>\n",
       "      <td>0.698706</td>\n",
       "      <td>0.801275</td>\n",
       "      <td>smote</td>\n",
       "    </tr>\n",
       "    <tr>\n",
       "      <th>2</th>\n",
       "      <td>baseline_model-LogisticRegression</td>\n",
       "      <td>feb7c44f37d8e9e876104ad53c6e77fb</td>\n",
       "      <td>0.024373</td>\n",
       "      <td>2022-12-04 17:17:47.175223</td>\n",
       "      <td>{'0': {'precision': 0.9702209414024976, 'recal...</td>\n",
       "      <td>0.700442</td>\n",
       "      <td>0.665962</td>\n",
       "      <td>0.770067</td>\n",
       "      <td>undersampling</td>\n",
       "    </tr>\n",
       "    <tr>\n",
       "      <th>3</th>\n",
       "      <td>baseline_model-DecisionTreeClassifier</td>\n",
       "      <td>f505269aa5dd8d3c3c9976854642a5eb</td>\n",
       "      <td>0.099767</td>\n",
       "      <td>2022-12-04 17:17:48.992926</td>\n",
       "      <td>{'0': {'precision': 0.9718446601941747, 'recal...</td>\n",
       "      <td>0.696449</td>\n",
       "      <td>0.660264</td>\n",
       "      <td>0.778171</td>\n",
       "      <td>smote</td>\n",
       "    </tr>\n",
       "    <tr>\n",
       "      <th>4</th>\n",
       "      <td>baseline_model-LogisticRegression</td>\n",
       "      <td>18c6b3ccb2fd79e3953e4534bc5a79b2</td>\n",
       "      <td>0.069161</td>\n",
       "      <td>2022-12-04 17:17:48.918644</td>\n",
       "      <td>{'0': {'precision': 0.9692603266090298, 'recal...</td>\n",
       "      <td>0.695490</td>\n",
       "      <td>0.661935</td>\n",
       "      <td>0.763514</td>\n",
       "      <td>smote</td>\n",
       "    </tr>\n",
       "    <tr>\n",
       "      <th>5</th>\n",
       "      <td>baseline_model-XGBClassifier</td>\n",
       "      <td>0c4cb14ee247b74c8710d3ad287070fe</td>\n",
       "      <td>0.215394</td>\n",
       "      <td>2022-12-04 17:17:47.622970</td>\n",
       "      <td>{'0': {'precision': 0.9833679833679834, 'recal...</td>\n",
       "      <td>0.677321</td>\n",
       "      <td>0.641684</td>\n",
       "      <td>0.832439</td>\n",
       "      <td>undersampling</td>\n",
       "    </tr>\n",
       "    <tr>\n",
       "      <th>6</th>\n",
       "      <td>baseline_model-KNeighborsClassifier</td>\n",
       "      <td>fdf40db577c551a664b8d04c4bc8220e</td>\n",
       "      <td>0.003930</td>\n",
       "      <td>2022-12-04 17:17:50.268897</td>\n",
       "      <td>{'0': {'precision': 0.9737638748738647, 'recal...</td>\n",
       "      <td>0.666630</td>\n",
       "      <td>0.633479</td>\n",
       "      <td>0.780100</td>\n",
       "      <td>smote</td>\n",
       "    </tr>\n",
       "    <tr>\n",
       "      <th>7</th>\n",
       "      <td>baseline_model-KNeighborsClassifier</td>\n",
       "      <td>e2e917bb5f227a1682c050d596428f89</td>\n",
       "      <td>0.010194</td>\n",
       "      <td>2022-12-04 17:17:47.408897</td>\n",
       "      <td>{'0': {'precision': 0.9774193548387097, 'recal...</td>\n",
       "      <td>0.630418</td>\n",
       "      <td>0.609741</td>\n",
       "      <td>0.785133</td>\n",
       "      <td>undersampling</td>\n",
       "    </tr>\n",
       "    <tr>\n",
       "      <th>8</th>\n",
       "      <td>baseline_model-RandomForestClassifier</td>\n",
       "      <td>f84e2fe13536ed69d95338a94456b4e0</td>\n",
       "      <td>0.168661</td>\n",
       "      <td>2022-12-04 17:17:47.221703</td>\n",
       "      <td>{'0': {'precision': 0.9793702497285559, 'recal...</td>\n",
       "      <td>0.629987</td>\n",
       "      <td>0.610375</td>\n",
       "      <td>0.794146</td>\n",
       "      <td>undersampling</td>\n",
       "    </tr>\n",
       "    <tr>\n",
       "      <th>9</th>\n",
       "      <td>baseline_model-DecisionTreeClassifier</td>\n",
       "      <td>7016107418937b5000e929571f174fda</td>\n",
       "      <td>0.006973</td>\n",
       "      <td>2022-12-04 17:17:47.209700</td>\n",
       "      <td>{'0': {'precision': 0.9800235017626322, 'recal...</td>\n",
       "      <td>0.584858</td>\n",
       "      <td>0.588199</td>\n",
       "      <td>0.775432</td>\n",
       "      <td>undersampling</td>\n",
       "    </tr>\n",
       "  </tbody>\n",
       "</table>\n",
       "</div>"
      ],
      "text/plain": [
       "                              model_name                         model_uid  \\\n",
       "0           baseline_model-XGBClassifier  83695d31ed151f48fd07120cd62b65b6   \n",
       "1  baseline_model-RandomForestClassifier  c0195fe945bfd837ba7ab17991ad1943   \n",
       "2      baseline_model-LogisticRegression  feb7c44f37d8e9e876104ad53c6e77fb   \n",
       "3  baseline_model-DecisionTreeClassifier  f505269aa5dd8d3c3c9976854642a5eb   \n",
       "4      baseline_model-LogisticRegression  18c6b3ccb2fd79e3953e4534bc5a79b2   \n",
       "5           baseline_model-XGBClassifier  0c4cb14ee247b74c8710d3ad287070fe   \n",
       "6    baseline_model-KNeighborsClassifier  fdf40db577c551a664b8d04c4bc8220e   \n",
       "7    baseline_model-KNeighborsClassifier  e2e917bb5f227a1682c050d596428f89   \n",
       "8  baseline_model-RandomForestClassifier  f84e2fe13536ed69d95338a94456b4e0   \n",
       "9  baseline_model-DecisionTreeClassifier  7016107418937b5000e929571f174fda   \n",
       "\n",
       "   training_time               training_date  \\\n",
       "0       0.692484  2022-12-04 17:17:50.305654   \n",
       "1       1.148583  2022-12-04 17:17:49.098131   \n",
       "2       0.024373  2022-12-04 17:17:47.175223   \n",
       "3       0.099767  2022-12-04 17:17:48.992926   \n",
       "4       0.069161  2022-12-04 17:17:48.918644   \n",
       "5       0.215394  2022-12-04 17:17:47.622970   \n",
       "6       0.003930  2022-12-04 17:17:50.268897   \n",
       "7       0.010194  2022-12-04 17:17:47.408897   \n",
       "8       0.168661  2022-12-04 17:17:47.221703   \n",
       "9       0.006973  2022-12-04 17:17:47.209700   \n",
       "\n",
       "                                         performance  f1_score_avg  \\\n",
       "0  {'0': {'precision': 0.976679104477612, 'recall...      0.778919   \n",
       "1  {'0': {'precision': 0.9743346007604563, 'recal...      0.735735   \n",
       "2  {'0': {'precision': 0.9702209414024976, 'recal...      0.700442   \n",
       "3  {'0': {'precision': 0.9718446601941747, 'recal...      0.696449   \n",
       "4  {'0': {'precision': 0.9692603266090298, 'recal...      0.695490   \n",
       "5  {'0': {'precision': 0.9833679833679834, 'recal...      0.677321   \n",
       "6  {'0': {'precision': 0.9737638748738647, 'recal...      0.666630   \n",
       "7  {'0': {'precision': 0.9774193548387097, 'recal...      0.630418   \n",
       "8  {'0': {'precision': 0.9793702497285559, 'recal...      0.629987   \n",
       "9  {'0': {'precision': 0.9800235017626322, 'recal...      0.584858   \n",
       "\n",
       "   precision_avg  recall_avg data_configurations  \n",
       "0       0.747430    0.823470               smote  \n",
       "1       0.698706    0.801275               smote  \n",
       "2       0.665962    0.770067       undersampling  \n",
       "3       0.660264    0.778171               smote  \n",
       "4       0.661935    0.763514               smote  \n",
       "5       0.641684    0.832439       undersampling  \n",
       "6       0.633479    0.780100               smote  \n",
       "7       0.609741    0.785133       undersampling  \n",
       "8       0.610375    0.794146       undersampling  \n",
       "9       0.588199    0.775432       undersampling  "
      ]
     },
     "execution_count": 20,
     "metadata": {},
     "output_type": "execute_result"
    }
   ],
   "source": [
    "training_res"
   ]
  },
  {
   "cell_type": "code",
   "execution_count": 21,
   "id": "f4912cdd-105d-4c3e-b71c-378e6d78c4bc",
   "metadata": {},
   "outputs": [],
   "source": [
    "def get_best_model(training_log_df, list_of_model):\n",
    "    model_object = None\n",
    "\n",
    "    best_model_info = training_log_df.sort_values([\"f1_score_avg\", \"training_time\"], ascending = [False, True]).iloc[0]\n",
    "    \n",
    "    for configuration_data in list_of_model:\n",
    "        for model_data in list_of_model[configuration_data]:\n",
    "            if model_data[\"model_uid\"] == best_model_info[\"model_uid\"]:\n",
    "                model_object = model_data[\"model_object\"]\n",
    "                break\n",
    "    \n",
    "    if model_object == None:\n",
    "        raise RuntimeError(\"The best model not found in your list of model.\")\n",
    "    \n",
    "    return model_object"
   ]
  },
  {
   "cell_type": "code",
   "execution_count": 22,
   "id": "447f70b5-485e-4037-9413-582a385fd290",
   "metadata": {},
   "outputs": [],
   "source": [
    "model = get_best_model(training_res, list_of_model)"
   ]
  },
  {
   "cell_type": "markdown",
   "id": "60eab677-6d73-444b-87e0-791711a9bca9",
   "metadata": {},
   "source": [
    "**COMMENT**:\n",
    "\n",
    "Dari hasil experiment modeling di atas dengan scenario Oversampling smote, dan undersampling didapatkan SMOTE merupakan scenario terbaik. 4 top performa model ditempati oleh model dengan scenario smote.\n",
    "Lalu dari sisi algoritma didapatkan XGboost mendapatkan nilai score terbaik dengan score F1 rata2 0.77 di data test. Precission Recall secara average tembus dengan nilai 0.74 dan 0.82\n",
    ".\n",
    "Kita coba lakukan eksperiment untuk tuning parameter XGBooost untuk meningkatkan peformanya."
   ]
  },
  {
   "cell_type": "markdown",
   "id": "72568c9f-c033-4c58-b5af-29b44fd16f80",
   "metadata": {},
   "source": [
    "## 5. Hyper Parameter Experimentations Tuning"
   ]
  },
  {
   "cell_type": "code",
   "execution_count": 273,
   "id": "8056c571-1c18-4955-a09e-b04b9e33bcff",
   "metadata": {},
   "outputs": [],
   "source": [
    "cv = RepeatedStratifiedKFold(n_splits=5, n_repeats=5, random_state=42)"
   ]
  },
  {
   "cell_type": "code",
   "execution_count": 128,
   "id": "496e82a6-b0a6-4b0a-a9e8-03832ec55349",
   "metadata": {},
   "outputs": [
    {
     "data": {
      "text/html": [
       "<style>#sk-container-id-12 {color: black;background-color: white;}#sk-container-id-12 pre{padding: 0;}#sk-container-id-12 div.sk-toggleable {background-color: white;}#sk-container-id-12 label.sk-toggleable__label {cursor: pointer;display: block;width: 100%;margin-bottom: 0;padding: 0.3em;box-sizing: border-box;text-align: center;}#sk-container-id-12 label.sk-toggleable__label-arrow:before {content: \"▸\";float: left;margin-right: 0.25em;color: #696969;}#sk-container-id-12 label.sk-toggleable__label-arrow:hover:before {color: black;}#sk-container-id-12 div.sk-estimator:hover label.sk-toggleable__label-arrow:before {color: black;}#sk-container-id-12 div.sk-toggleable__content {max-height: 0;max-width: 0;overflow: hidden;text-align: left;background-color: #f0f8ff;}#sk-container-id-12 div.sk-toggleable__content pre {margin: 0.2em;color: black;border-radius: 0.25em;background-color: #f0f8ff;}#sk-container-id-12 input.sk-toggleable__control:checked~div.sk-toggleable__content {max-height: 200px;max-width: 100%;overflow: auto;}#sk-container-id-12 input.sk-toggleable__control:checked~label.sk-toggleable__label-arrow:before {content: \"▾\";}#sk-container-id-12 div.sk-estimator input.sk-toggleable__control:checked~label.sk-toggleable__label {background-color: #d4ebff;}#sk-container-id-12 div.sk-label input.sk-toggleable__control:checked~label.sk-toggleable__label {background-color: #d4ebff;}#sk-container-id-12 input.sk-hidden--visually {border: 0;clip: rect(1px 1px 1px 1px);clip: rect(1px, 1px, 1px, 1px);height: 1px;margin: -1px;overflow: hidden;padding: 0;position: absolute;width: 1px;}#sk-container-id-12 div.sk-estimator {font-family: monospace;background-color: #f0f8ff;border: 1px dotted black;border-radius: 0.25em;box-sizing: border-box;margin-bottom: 0.5em;}#sk-container-id-12 div.sk-estimator:hover {background-color: #d4ebff;}#sk-container-id-12 div.sk-parallel-item::after {content: \"\";width: 100%;border-bottom: 1px solid gray;flex-grow: 1;}#sk-container-id-12 div.sk-label:hover label.sk-toggleable__label {background-color: #d4ebff;}#sk-container-id-12 div.sk-serial::before {content: \"\";position: absolute;border-left: 1px solid gray;box-sizing: border-box;top: 0;bottom: 0;left: 50%;z-index: 0;}#sk-container-id-12 div.sk-serial {display: flex;flex-direction: column;align-items: center;background-color: white;padding-right: 0.2em;padding-left: 0.2em;position: relative;}#sk-container-id-12 div.sk-item {position: relative;z-index: 1;}#sk-container-id-12 div.sk-parallel {display: flex;align-items: stretch;justify-content: center;background-color: white;position: relative;}#sk-container-id-12 div.sk-item::before, #sk-container-id-12 div.sk-parallel-item::before {content: \"\";position: absolute;border-left: 1px solid gray;box-sizing: border-box;top: 0;bottom: 0;left: 50%;z-index: -1;}#sk-container-id-12 div.sk-parallel-item {display: flex;flex-direction: column;z-index: 1;position: relative;background-color: white;}#sk-container-id-12 div.sk-parallel-item:first-child::after {align-self: flex-end;width: 50%;}#sk-container-id-12 div.sk-parallel-item:last-child::after {align-self: flex-start;width: 50%;}#sk-container-id-12 div.sk-parallel-item:only-child::after {width: 0;}#sk-container-id-12 div.sk-dashed-wrapped {border: 1px dashed gray;margin: 0 0.4em 0.5em 0.4em;box-sizing: border-box;padding-bottom: 0.4em;background-color: white;}#sk-container-id-12 div.sk-label label {font-family: monospace;font-weight: bold;display: inline-block;line-height: 1.2em;}#sk-container-id-12 div.sk-label-container {text-align: center;}#sk-container-id-12 div.sk-container {/* jupyter's `normalize.less` sets `[hidden] { display: none; }` but bootstrap.min.css set `[hidden] { display: none !important; }` so we also need the `!important` here to be able to override the default hidden behavior on the sphinx rendered scikit-learn.org. See: https://github.com/scikit-learn/scikit-learn/issues/21755 */display: inline-block !important;position: relative;}#sk-container-id-12 div.sk-text-repr-fallback {display: none;}</style><div id=\"sk-container-id-12\" class=\"sk-top-container\"><div class=\"sk-text-repr-fallback\"><pre>GridSearchCV(cv=RepeatedStratifiedKFold(n_repeats=5, n_splits=5, random_state=42),\n",
       "             estimator=XGBClassifier(base_score=None, booster=None,\n",
       "                                     callbacks=None, colsample_bylevel=None,\n",
       "                                     colsample_bynode=None,\n",
       "                                     colsample_bytree=None,\n",
       "                                     early_stopping_rounds=None,\n",
       "                                     enable_categorical=False, eval_metric=None,\n",
       "                                     gamma=None, gpu_id=None, grow_policy=None,\n",
       "                                     importance_type=None,\n",
       "                                     inter...\n",
       "                                     max_leaves=None, min_child_weight=None,\n",
       "                                     missing=nan, monotone_constraints=None,\n",
       "                                     n_estimators=100, n_jobs=None,\n",
       "                                     num_parallel_tree=None, predictor=None,\n",
       "                                     random_state=None, reg_alpha=None,\n",
       "                                     reg_lambda=None, ...),\n",
       "             n_jobs=-1,\n",
       "             param_grid={&#x27;gamma&#x27;: [0.0, 0.1, 0.2, 0.3, 0.4],\n",
       "                         &#x27;max_depth&#x27;: range(3, 10, 2),\n",
       "                         &#x27;min_child_weight&#x27;: range(1, 10, 2),\n",
       "                         &#x27;reg_alpha&#x27;: [1e-05, 0.01, 0.1, 1, 100]},\n",
       "             scoring=&#x27;f1&#x27;)</pre><b>In a Jupyter environment, please rerun this cell to show the HTML representation or trust the notebook. <br />On GitHub, the HTML representation is unable to render, please try loading this page with nbviewer.org.</b></div><div class=\"sk-container\" hidden><div class=\"sk-item sk-dashed-wrapped\"><div class=\"sk-label-container\"><div class=\"sk-label sk-toggleable\"><input class=\"sk-toggleable__control sk-hidden--visually\" id=\"sk-estimator-id-30\" type=\"checkbox\" ><label for=\"sk-estimator-id-30\" class=\"sk-toggleable__label sk-toggleable__label-arrow\">GridSearchCV</label><div class=\"sk-toggleable__content\"><pre>GridSearchCV(cv=RepeatedStratifiedKFold(n_repeats=5, n_splits=5, random_state=42),\n",
       "             estimator=XGBClassifier(base_score=None, booster=None,\n",
       "                                     callbacks=None, colsample_bylevel=None,\n",
       "                                     colsample_bynode=None,\n",
       "                                     colsample_bytree=None,\n",
       "                                     early_stopping_rounds=None,\n",
       "                                     enable_categorical=False, eval_metric=None,\n",
       "                                     gamma=None, gpu_id=None, grow_policy=None,\n",
       "                                     importance_type=None,\n",
       "                                     inter...\n",
       "                                     max_leaves=None, min_child_weight=None,\n",
       "                                     missing=nan, monotone_constraints=None,\n",
       "                                     n_estimators=100, n_jobs=None,\n",
       "                                     num_parallel_tree=None, predictor=None,\n",
       "                                     random_state=None, reg_alpha=None,\n",
       "                                     reg_lambda=None, ...),\n",
       "             n_jobs=-1,\n",
       "             param_grid={&#x27;gamma&#x27;: [0.0, 0.1, 0.2, 0.3, 0.4],\n",
       "                         &#x27;max_depth&#x27;: range(3, 10, 2),\n",
       "                         &#x27;min_child_weight&#x27;: range(1, 10, 2),\n",
       "                         &#x27;reg_alpha&#x27;: [1e-05, 0.01, 0.1, 1, 100]},\n",
       "             scoring=&#x27;f1&#x27;)</pre></div></div></div><div class=\"sk-parallel\"><div class=\"sk-parallel-item\"><div class=\"sk-item\"><div class=\"sk-label-container\"><div class=\"sk-label sk-toggleable\"><input class=\"sk-toggleable__control sk-hidden--visually\" id=\"sk-estimator-id-31\" type=\"checkbox\" ><label for=\"sk-estimator-id-31\" class=\"sk-toggleable__label sk-toggleable__label-arrow\">estimator: XGBClassifier</label><div class=\"sk-toggleable__content\"><pre>XGBClassifier(base_score=None, booster=None, callbacks=None,\n",
       "              colsample_bylevel=None, colsample_bynode=None,\n",
       "              colsample_bytree=None, early_stopping_rounds=None,\n",
       "              enable_categorical=False, eval_metric=None, gamma=None,\n",
       "              gpu_id=None, grow_policy=None, importance_type=None,\n",
       "              interaction_constraints=None, learning_rate=None, max_bin=None,\n",
       "              max_cat_to_onehot=None, max_delta_step=None, max_depth=None,\n",
       "              max_leaves=None, min_child_weight=None, missing=nan,\n",
       "              monotone_constraints=None, n_estimators=100, n_jobs=None,\n",
       "              num_parallel_tree=None, predictor=None, random_state=None,\n",
       "              reg_alpha=None, reg_lambda=None, ...)</pre></div></div></div><div class=\"sk-serial\"><div class=\"sk-item\"><div class=\"sk-estimator sk-toggleable\"><input class=\"sk-toggleable__control sk-hidden--visually\" id=\"sk-estimator-id-32\" type=\"checkbox\" ><label for=\"sk-estimator-id-32\" class=\"sk-toggleable__label sk-toggleable__label-arrow\">XGBClassifier</label><div class=\"sk-toggleable__content\"><pre>XGBClassifier(base_score=None, booster=None, callbacks=None,\n",
       "              colsample_bylevel=None, colsample_bynode=None,\n",
       "              colsample_bytree=None, early_stopping_rounds=None,\n",
       "              enable_categorical=False, eval_metric=None, gamma=None,\n",
       "              gpu_id=None, grow_policy=None, importance_type=None,\n",
       "              interaction_constraints=None, learning_rate=None, max_bin=None,\n",
       "              max_cat_to_onehot=None, max_delta_step=None, max_depth=None,\n",
       "              max_leaves=None, min_child_weight=None, missing=nan,\n",
       "              monotone_constraints=None, n_estimators=100, n_jobs=None,\n",
       "              num_parallel_tree=None, predictor=None, random_state=None,\n",
       "              reg_alpha=None, reg_lambda=None, ...)</pre></div></div></div></div></div></div></div></div></div></div>"
      ],
      "text/plain": [
       "GridSearchCV(cv=RepeatedStratifiedKFold(n_repeats=5, n_splits=5, random_state=42),\n",
       "             estimator=XGBClassifier(base_score=None, booster=None,\n",
       "                                     callbacks=None, colsample_bylevel=None,\n",
       "                                     colsample_bynode=None,\n",
       "                                     colsample_bytree=None,\n",
       "                                     early_stopping_rounds=None,\n",
       "                                     enable_categorical=False, eval_metric=None,\n",
       "                                     gamma=None, gpu_id=None, grow_policy=None,\n",
       "                                     importance_type=None,\n",
       "                                     inter...\n",
       "                                     max_leaves=None, min_child_weight=None,\n",
       "                                     missing=nan, monotone_constraints=None,\n",
       "                                     n_estimators=100, n_jobs=None,\n",
       "                                     num_parallel_tree=None, predictor=None,\n",
       "                                     random_state=None, reg_alpha=None,\n",
       "                                     reg_lambda=None, ...),\n",
       "             n_jobs=-1,\n",
       "             param_grid={'gamma': [0.0, 0.1, 0.2, 0.3, 0.4],\n",
       "                         'max_depth': range(3, 10, 2),\n",
       "                         'min_child_weight': range(1, 10, 2),\n",
       "                         'reg_alpha': [1e-05, 0.01, 0.1, 1, 100]},\n",
       "             scoring='f1')"
      ]
     },
     "execution_count": 128,
     "metadata": {},
     "output_type": "execute_result"
    }
   ],
   "source": [
    "param_test1 = {\n",
    " 'max_depth':range(3,10,2),\n",
    " 'min_child_weight':range(1,10,2),\n",
    "    'min_child_weight':range(1,10,2),\n",
    "    'gamma':[i/10.0 for i in range(0,5)],\n",
    "    'reg_alpha':[1e-5, 1e-2, 0.1, 1, 100],\n",
    "}\n",
    "gsearch1 = GridSearchCV(estimator = XGBClassifier(seed=42), \n",
    "                        param_grid = param_test1, scoring='f1', n_jobs=-1, cv=cv)\n",
    "\n",
    "gsearch1.fit(x_sm, y_sm)"
   ]
  },
  {
   "cell_type": "code",
   "execution_count": 160,
   "id": "197e332e-ea4e-4053-a919-999d42b4d245",
   "metadata": {},
   "outputs": [],
   "source": [
    "# help(gsearch1)"
   ]
  },
  {
   "cell_type": "code",
   "execution_count": 135,
   "id": "b3eb1198-29a7-4846-af3f-302f08704334",
   "metadata": {},
   "outputs": [
    {
     "data": {
      "text/html": [
       "<style>#sk-container-id-14 {color: black;background-color: white;}#sk-container-id-14 pre{padding: 0;}#sk-container-id-14 div.sk-toggleable {background-color: white;}#sk-container-id-14 label.sk-toggleable__label {cursor: pointer;display: block;width: 100%;margin-bottom: 0;padding: 0.3em;box-sizing: border-box;text-align: center;}#sk-container-id-14 label.sk-toggleable__label-arrow:before {content: \"▸\";float: left;margin-right: 0.25em;color: #696969;}#sk-container-id-14 label.sk-toggleable__label-arrow:hover:before {color: black;}#sk-container-id-14 div.sk-estimator:hover label.sk-toggleable__label-arrow:before {color: black;}#sk-container-id-14 div.sk-toggleable__content {max-height: 0;max-width: 0;overflow: hidden;text-align: left;background-color: #f0f8ff;}#sk-container-id-14 div.sk-toggleable__content pre {margin: 0.2em;color: black;border-radius: 0.25em;background-color: #f0f8ff;}#sk-container-id-14 input.sk-toggleable__control:checked~div.sk-toggleable__content {max-height: 200px;max-width: 100%;overflow: auto;}#sk-container-id-14 input.sk-toggleable__control:checked~label.sk-toggleable__label-arrow:before {content: \"▾\";}#sk-container-id-14 div.sk-estimator input.sk-toggleable__control:checked~label.sk-toggleable__label {background-color: #d4ebff;}#sk-container-id-14 div.sk-label input.sk-toggleable__control:checked~label.sk-toggleable__label {background-color: #d4ebff;}#sk-container-id-14 input.sk-hidden--visually {border: 0;clip: rect(1px 1px 1px 1px);clip: rect(1px, 1px, 1px, 1px);height: 1px;margin: -1px;overflow: hidden;padding: 0;position: absolute;width: 1px;}#sk-container-id-14 div.sk-estimator {font-family: monospace;background-color: #f0f8ff;border: 1px dotted black;border-radius: 0.25em;box-sizing: border-box;margin-bottom: 0.5em;}#sk-container-id-14 div.sk-estimator:hover {background-color: #d4ebff;}#sk-container-id-14 div.sk-parallel-item::after {content: \"\";width: 100%;border-bottom: 1px solid gray;flex-grow: 1;}#sk-container-id-14 div.sk-label:hover label.sk-toggleable__label {background-color: #d4ebff;}#sk-container-id-14 div.sk-serial::before {content: \"\";position: absolute;border-left: 1px solid gray;box-sizing: border-box;top: 0;bottom: 0;left: 50%;z-index: 0;}#sk-container-id-14 div.sk-serial {display: flex;flex-direction: column;align-items: center;background-color: white;padding-right: 0.2em;padding-left: 0.2em;position: relative;}#sk-container-id-14 div.sk-item {position: relative;z-index: 1;}#sk-container-id-14 div.sk-parallel {display: flex;align-items: stretch;justify-content: center;background-color: white;position: relative;}#sk-container-id-14 div.sk-item::before, #sk-container-id-14 div.sk-parallel-item::before {content: \"\";position: absolute;border-left: 1px solid gray;box-sizing: border-box;top: 0;bottom: 0;left: 50%;z-index: -1;}#sk-container-id-14 div.sk-parallel-item {display: flex;flex-direction: column;z-index: 1;position: relative;background-color: white;}#sk-container-id-14 div.sk-parallel-item:first-child::after {align-self: flex-end;width: 50%;}#sk-container-id-14 div.sk-parallel-item:last-child::after {align-self: flex-start;width: 50%;}#sk-container-id-14 div.sk-parallel-item:only-child::after {width: 0;}#sk-container-id-14 div.sk-dashed-wrapped {border: 1px dashed gray;margin: 0 0.4em 0.5em 0.4em;box-sizing: border-box;padding-bottom: 0.4em;background-color: white;}#sk-container-id-14 div.sk-label label {font-family: monospace;font-weight: bold;display: inline-block;line-height: 1.2em;}#sk-container-id-14 div.sk-label-container {text-align: center;}#sk-container-id-14 div.sk-container {/* jupyter's `normalize.less` sets `[hidden] { display: none; }` but bootstrap.min.css set `[hidden] { display: none !important; }` so we also need the `!important` here to be able to override the default hidden behavior on the sphinx rendered scikit-learn.org. See: https://github.com/scikit-learn/scikit-learn/issues/21755 */display: inline-block !important;position: relative;}#sk-container-id-14 div.sk-text-repr-fallback {display: none;}</style><div id=\"sk-container-id-14\" class=\"sk-top-container\"><div class=\"sk-text-repr-fallback\"><pre>XGBClassifier(base_score=0.5, booster=&#x27;gbtree&#x27;, callbacks=None,\n",
       "              colsample_bylevel=1, colsample_bynode=1, colsample_bytree=1,\n",
       "              early_stopping_rounds=None, enable_categorical=False,\n",
       "              eval_metric=None, gamma=0.0, gpu_id=-1, grow_policy=&#x27;depthwise&#x27;,\n",
       "              importance_type=None, interaction_constraints=&#x27;&#x27;,\n",
       "              learning_rate=0.300000012, max_bin=256, max_cat_to_onehot=4,\n",
       "              max_delta_step=0, max_depth=9, max_leaves=0, min_child_weight=1,\n",
       "              missing=nan, monotone_constraints=&#x27;()&#x27;, n_estimators=100,\n",
       "              n_jobs=0, num_parallel_tree=1, predictor=&#x27;auto&#x27;, random_state=42,\n",
       "              reg_alpha=1e-05, reg_lambda=1, ...)</pre><b>In a Jupyter environment, please rerun this cell to show the HTML representation or trust the notebook. <br />On GitHub, the HTML representation is unable to render, please try loading this page with nbviewer.org.</b></div><div class=\"sk-container\" hidden><div class=\"sk-item\"><div class=\"sk-estimator sk-toggleable\"><input class=\"sk-toggleable__control sk-hidden--visually\" id=\"sk-estimator-id-34\" type=\"checkbox\" checked><label for=\"sk-estimator-id-34\" class=\"sk-toggleable__label sk-toggleable__label-arrow\">XGBClassifier</label><div class=\"sk-toggleable__content\"><pre>XGBClassifier(base_score=0.5, booster=&#x27;gbtree&#x27;, callbacks=None,\n",
       "              colsample_bylevel=1, colsample_bynode=1, colsample_bytree=1,\n",
       "              early_stopping_rounds=None, enable_categorical=False,\n",
       "              eval_metric=None, gamma=0.0, gpu_id=-1, grow_policy=&#x27;depthwise&#x27;,\n",
       "              importance_type=None, interaction_constraints=&#x27;&#x27;,\n",
       "              learning_rate=0.300000012, max_bin=256, max_cat_to_onehot=4,\n",
       "              max_delta_step=0, max_depth=9, max_leaves=0, min_child_weight=1,\n",
       "              missing=nan, monotone_constraints=&#x27;()&#x27;, n_estimators=100,\n",
       "              n_jobs=0, num_parallel_tree=1, predictor=&#x27;auto&#x27;, random_state=42,\n",
       "              reg_alpha=1e-05, reg_lambda=1, ...)</pre></div></div></div></div></div>"
      ],
      "text/plain": [
       "XGBClassifier(base_score=0.5, booster='gbtree', callbacks=None,\n",
       "              colsample_bylevel=1, colsample_bynode=1, colsample_bytree=1,\n",
       "              early_stopping_rounds=None, enable_categorical=False,\n",
       "              eval_metric=None, gamma=0.0, gpu_id=-1, grow_policy='depthwise',\n",
       "              importance_type=None, interaction_constraints='',\n",
       "              learning_rate=0.300000012, max_bin=256, max_cat_to_onehot=4,\n",
       "              max_delta_step=0, max_depth=9, max_leaves=0, min_child_weight=1,\n",
       "              missing=nan, monotone_constraints='()', n_estimators=100,\n",
       "              n_jobs=0, num_parallel_tree=1, predictor='auto', random_state=42,\n",
       "              reg_alpha=1e-05, reg_lambda=1, ...)"
      ]
     },
     "execution_count": 135,
     "metadata": {},
     "output_type": "execute_result"
    }
   ],
   "source": [
    "gsearch1.best_estimator_"
   ]
  },
  {
   "cell_type": "code",
   "execution_count": 130,
   "id": "691c1d0d-45c6-4220-bf26-687f0b094398",
   "metadata": {},
   "outputs": [
    {
     "data": {
      "text/plain": [
       "({'gamma': 0.0, 'max_depth': 9, 'min_child_weight': 1, 'reg_alpha': 1e-05},\n",
       " 0.9693865103241174)"
      ]
     },
     "execution_count": 130,
     "metadata": {},
     "output_type": "execute_result"
    }
   ],
   "source": [
    "gsearch1.best_params_, gsearch1.best_score_"
   ]
  },
  {
   "cell_type": "code",
   "execution_count": 23,
   "id": "093c37e1-095a-4cb7-ba4d-e4abcac8ad12",
   "metadata": {},
   "outputs": [
    {
     "data": {
      "text/html": [
       "<style>#sk-container-id-2 {color: black;background-color: white;}#sk-container-id-2 pre{padding: 0;}#sk-container-id-2 div.sk-toggleable {background-color: white;}#sk-container-id-2 label.sk-toggleable__label {cursor: pointer;display: block;width: 100%;margin-bottom: 0;padding: 0.3em;box-sizing: border-box;text-align: center;}#sk-container-id-2 label.sk-toggleable__label-arrow:before {content: \"▸\";float: left;margin-right: 0.25em;color: #696969;}#sk-container-id-2 label.sk-toggleable__label-arrow:hover:before {color: black;}#sk-container-id-2 div.sk-estimator:hover label.sk-toggleable__label-arrow:before {color: black;}#sk-container-id-2 div.sk-toggleable__content {max-height: 0;max-width: 0;overflow: hidden;text-align: left;background-color: #f0f8ff;}#sk-container-id-2 div.sk-toggleable__content pre {margin: 0.2em;color: black;border-radius: 0.25em;background-color: #f0f8ff;}#sk-container-id-2 input.sk-toggleable__control:checked~div.sk-toggleable__content {max-height: 200px;max-width: 100%;overflow: auto;}#sk-container-id-2 input.sk-toggleable__control:checked~label.sk-toggleable__label-arrow:before {content: \"▾\";}#sk-container-id-2 div.sk-estimator input.sk-toggleable__control:checked~label.sk-toggleable__label {background-color: #d4ebff;}#sk-container-id-2 div.sk-label input.sk-toggleable__control:checked~label.sk-toggleable__label {background-color: #d4ebff;}#sk-container-id-2 input.sk-hidden--visually {border: 0;clip: rect(1px 1px 1px 1px);clip: rect(1px, 1px, 1px, 1px);height: 1px;margin: -1px;overflow: hidden;padding: 0;position: absolute;width: 1px;}#sk-container-id-2 div.sk-estimator {font-family: monospace;background-color: #f0f8ff;border: 1px dotted black;border-radius: 0.25em;box-sizing: border-box;margin-bottom: 0.5em;}#sk-container-id-2 div.sk-estimator:hover {background-color: #d4ebff;}#sk-container-id-2 div.sk-parallel-item::after {content: \"\";width: 100%;border-bottom: 1px solid gray;flex-grow: 1;}#sk-container-id-2 div.sk-label:hover label.sk-toggleable__label {background-color: #d4ebff;}#sk-container-id-2 div.sk-serial::before {content: \"\";position: absolute;border-left: 1px solid gray;box-sizing: border-box;top: 0;bottom: 0;left: 50%;z-index: 0;}#sk-container-id-2 div.sk-serial {display: flex;flex-direction: column;align-items: center;background-color: white;padding-right: 0.2em;padding-left: 0.2em;position: relative;}#sk-container-id-2 div.sk-item {position: relative;z-index: 1;}#sk-container-id-2 div.sk-parallel {display: flex;align-items: stretch;justify-content: center;background-color: white;position: relative;}#sk-container-id-2 div.sk-item::before, #sk-container-id-2 div.sk-parallel-item::before {content: \"\";position: absolute;border-left: 1px solid gray;box-sizing: border-box;top: 0;bottom: 0;left: 50%;z-index: -1;}#sk-container-id-2 div.sk-parallel-item {display: flex;flex-direction: column;z-index: 1;position: relative;background-color: white;}#sk-container-id-2 div.sk-parallel-item:first-child::after {align-self: flex-end;width: 50%;}#sk-container-id-2 div.sk-parallel-item:last-child::after {align-self: flex-start;width: 50%;}#sk-container-id-2 div.sk-parallel-item:only-child::after {width: 0;}#sk-container-id-2 div.sk-dashed-wrapped {border: 1px dashed gray;margin: 0 0.4em 0.5em 0.4em;box-sizing: border-box;padding-bottom: 0.4em;background-color: white;}#sk-container-id-2 div.sk-label label {font-family: monospace;font-weight: bold;display: inline-block;line-height: 1.2em;}#sk-container-id-2 div.sk-label-container {text-align: center;}#sk-container-id-2 div.sk-container {/* jupyter's `normalize.less` sets `[hidden] { display: none; }` but bootstrap.min.css set `[hidden] { display: none !important; }` so we also need the `!important` here to be able to override the default hidden behavior on the sphinx rendered scikit-learn.org. See: https://github.com/scikit-learn/scikit-learn/issues/21755 */display: inline-block !important;position: relative;}#sk-container-id-2 div.sk-text-repr-fallback {display: none;}</style><div id=\"sk-container-id-2\" class=\"sk-top-container\"><div class=\"sk-text-repr-fallback\"><pre>XGBClassifier(base_score=0.5, booster=&#x27;gbtree&#x27;, callbacks=None,\n",
       "              colsample_bylevel=1, colsample_bynode=1, colsample_bytree=1,\n",
       "              early_stopping_rounds=None, enable_categorical=False,\n",
       "              eval_metric=None, gamma=0.0, gpu_id=-1, grow_policy=&#x27;depthwise&#x27;,\n",
       "              importance_type=None, interaction_constraints=&#x27;&#x27;,\n",
       "              learning_rate=0.300000012, max_bin=256, max_cat_to_onehot=4,\n",
       "              max_delta_step=0, max_depth=9, max_leaves=0, min_child_weight=1,\n",
       "              missing=nan, monotone_constraints=&#x27;()&#x27;, n_estimators=100,\n",
       "              n_jobs=0, num_parallel_tree=1, predictor=&#x27;auto&#x27;, random_state=42,\n",
       "              reg_alpha=1e-05, reg_lambda=1, ...)</pre><b>In a Jupyter environment, please rerun this cell to show the HTML representation or trust the notebook. <br />On GitHub, the HTML representation is unable to render, please try loading this page with nbviewer.org.</b></div><div class=\"sk-container\" hidden><div class=\"sk-item\"><div class=\"sk-estimator sk-toggleable\"><input class=\"sk-toggleable__control sk-hidden--visually\" id=\"sk-estimator-id-2\" type=\"checkbox\" checked><label for=\"sk-estimator-id-2\" class=\"sk-toggleable__label sk-toggleable__label-arrow\">XGBClassifier</label><div class=\"sk-toggleable__content\"><pre>XGBClassifier(base_score=0.5, booster=&#x27;gbtree&#x27;, callbacks=None,\n",
       "              colsample_bylevel=1, colsample_bynode=1, colsample_bytree=1,\n",
       "              early_stopping_rounds=None, enable_categorical=False,\n",
       "              eval_metric=None, gamma=0.0, gpu_id=-1, grow_policy=&#x27;depthwise&#x27;,\n",
       "              importance_type=None, interaction_constraints=&#x27;&#x27;,\n",
       "              learning_rate=0.300000012, max_bin=256, max_cat_to_onehot=4,\n",
       "              max_delta_step=0, max_depth=9, max_leaves=0, min_child_weight=1,\n",
       "              missing=nan, monotone_constraints=&#x27;()&#x27;, n_estimators=100,\n",
       "              n_jobs=0, num_parallel_tree=1, predictor=&#x27;auto&#x27;, random_state=42,\n",
       "              reg_alpha=1e-05, reg_lambda=1, ...)</pre></div></div></div></div></div>"
      ],
      "text/plain": [
       "XGBClassifier(base_score=0.5, booster='gbtree', callbacks=None,\n",
       "              colsample_bylevel=1, colsample_bynode=1, colsample_bytree=1,\n",
       "              early_stopping_rounds=None, enable_categorical=False,\n",
       "              eval_metric=None, gamma=0.0, gpu_id=-1, grow_policy='depthwise',\n",
       "              importance_type=None, interaction_constraints='',\n",
       "              learning_rate=0.300000012, max_bin=256, max_cat_to_onehot=4,\n",
       "              max_delta_step=0, max_depth=9, max_leaves=0, min_child_weight=1,\n",
       "              missing=nan, monotone_constraints='()', n_estimators=100,\n",
       "              n_jobs=0, num_parallel_tree=1, predictor='auto', random_state=42,\n",
       "              reg_alpha=1e-05, reg_lambda=1, ...)"
      ]
     },
     "execution_count": 23,
     "metadata": {},
     "output_type": "execute_result"
    }
   ],
   "source": [
    "xgb = XGBClassifier(\n",
    " max_depth=9,\n",
    " min_child_weight=1,\n",
    " gamma=0.0,\n",
    " reg_alpha=1e-05,\n",
    " seed=42)\n",
    "xgb.fit(x_sm, y_sm)"
   ]
  },
  {
   "cell_type": "code",
   "execution_count": 24,
   "id": "6113639c-d7f9-4a0a-9953-4f0f590e4117",
   "metadata": {},
   "outputs": [],
   "source": [
    "def evaluate_model_testing(model,fitur_train, y_train, fitur_test, y_test):\n",
    "    #test\n",
    "    predY = model.predict(fitur_test)\n",
    "    probs = model.predict_proba(fitur_test)\n",
    "    probs = probs[:, 1]\n",
    "    #train\n",
    "    pred_train = model.predict(fitur_train)\n",
    "    probs_train = model.predict_proba(fitur_train)\n",
    "    probs_train = probs_train[:, 1]\n",
    "    precision, recall, thresholds = precision_recall_curve(y_test, probs)\n",
    "    #classification report\n",
    "    print(classification_report(y_test, predY))\n",
    "    \n",
    "    print(\"Accuracy on testing :\" + str(accuracy_score(y_test, predY)))\n",
    "    print(\"AUC of ROC on Testing :\" + str(roc_auc_score(y_test, predY)))\n",
    "    print(\"AUC of ROC on Train:\" + str(roc_auc_score(y_train,pred_train)))\n",
    "    print(\"AUC of ROC on Probability Train:\" + str(roc_auc_score(y_train,probs_train)))\n",
    "    print(\"AUC of ROC on Probability Test:\" + str(roc_auc_score(y_test,probs)))\n",
    "    # print(\"AUC of Precision-Recall Curve on Testing :\" + str(auc(recall, precision)))\n",
    "    # print(\"Precision Score :\" + str(precision_score(y_test, predY)))\n",
    "    # print(\"F1 Score :\" + str(f1_score(y_test, predY)))\n",
    "    # print(\"Recall Score :\" + str(recall_score(y_test, predY)))\n",
    "    \n",
    "    #TN EAR EDR\n",
    "    (tn, fp, fn, tp ) = confusion_matrix(y_test, predY).ravel()\n",
    "    print(\"TN :\" + str(tn), \"\\t\"\"FP :\" + str(fp), \"\\t\"\"FN :\" + str(fn), \"\\t\"\"TP :\" + str(tp))\n",
    "    # print(\"EAR \"+str((fp+tp)/(fp+tp+tn+fn)))\n",
    "    # print(\"EDR \"+str((fp)/(fp+tp)))\n",
    "    print(\"Recall Score no Weihted:\", str(tp/(tp+fn)))\n",
    "    print(\"Specifity Score :\" + str(tn/(tn+fp)))\n",
    "    \n",
    "    #confusion matrix plot\n",
    "    conf_mat = confusion_matrix(y_test, predY)\n",
    "    fig, ax = plt.subplots(figsize=(8,8))\n",
    "    sns.heatmap(conf_mat, annot=True, fmt='d')\n",
    "    plt.ylabel('Actual')\n",
    "    plt.xlabel('Predicted')"
   ]
  },
  {
   "cell_type": "code",
   "execution_count": 25,
   "id": "4aabd4e6-1bf0-490a-9d32-9e3bfdbf152b",
   "metadata": {},
   "outputs": [
    {
     "data": {
      "text/plain": [
       "class\n",
       "0        1100\n",
       "1          82\n",
       "dtype: int64"
      ]
     },
     "execution_count": 25,
     "metadata": {},
     "output_type": "execute_result"
    }
   ],
   "source": [
    "y_test.value_counts()"
   ]
  },
  {
   "cell_type": "code",
   "execution_count": 26,
   "id": "0c7230d3-2ace-48ca-8bc5-077e700f1a22",
   "metadata": {},
   "outputs": [
    {
     "name": "stdout",
     "output_type": "stream",
     "text": [
      "              precision    recall  f1-score   support\n",
      "\n",
      "           0       0.98      0.96      0.97      1100\n",
      "           1       0.58      0.72      0.64        82\n",
      "\n",
      "    accuracy                           0.94      1182\n",
      "   macro avg       0.78      0.84      0.81      1182\n",
      "weighted avg       0.95      0.94      0.95      1182\n",
      "\n",
      "Accuracy on testing :0.9441624365482234\n",
      "AUC of ROC on Testing :0.8402106430155211\n",
      "AUC of ROC on Train:0.9998863636363636\n",
      "AUC of ROC on Probability Train:0.9999999741735537\n",
      "AUC of ROC on Probability Test:0.9440687361419068\n",
      "TN :1057 \tFP :43 \tFN :23 \tTP :59\n",
      "Recall Score no Weihted: 0.7195121951219512\n",
      "Specifity Score :0.9609090909090909\n"
     ]
    },
    {
     "data": {
      "image/png": "[encoded data removed]",
      "text/plain": [
       "<Figure size 576x576 with 2 Axes>"
      ]
     },
     "metadata": {
      "needs_background": "light"
     },
     "output_type": "display_data"
    }
   ],
   "source": [
    "evaluate_model_testing(xgb,x_sm, y_sm, x_test,y_test)"
   ]
  },
  {
   "cell_type": "markdown",
   "id": "69353b87-f44e-4636-b02a-b8039a4fa15d",
   "metadata": {},
   "source": [
    "**COMMENT**:\n",
    "\n",
    "Dari hasil experiment tuning yang dilakukan didapatkan hasil:\n",
    "\n",
    "1. F1 score 0.81 > 0.77 (model sebelumnya)\n",
    "2. Recall avg 0.84 > 0.82 (model sebelumnya)\n",
    "3. Precision avg 0.78 > 0.74 (model sebelumnya)"
   ]
  },
  {
   "cell_type": "markdown",
   "id": "cc52cb0e-0953-40ac-bb2e-0007111d90c8",
   "metadata": {},
   "source": [
    "### Experimentation Variable Selections After Tuning"
   ]
  },
  {
   "cell_type": "code",
   "execution_count": 32,
   "id": "be486ffb-10dc-49bb-ba1f-e494fb4cc62a",
   "metadata": {},
   "outputs": [],
   "source": [
    "feature = pd.DataFrame()\n",
    "feature['variable'] = x_sm.columns\n",
    "feature['Importance'] = xgb.feature_importances_"
   ]
  },
  {
   "cell_type": "code",
   "execution_count": 33,
   "id": "5506ff26-2296-42a7-b0d6-6d41886bfe5a",
   "metadata": {},
   "outputs": [],
   "source": [
    "feature.sort_values(by='Importance',ascending=False, inplace=True)"
   ]
  },
  {
   "cell_type": "code",
   "execution_count": 34,
   "id": "1ad4c264-45b2-4777-a1f6-f13bc9740ef8",
   "metadata": {},
   "outputs": [
    {
     "data": {
      "text/html": [
       "<div>\n",
       "<style scoped>\n",
       "    .dataframe tbody tr th:only-of-type {\n",
       "        vertical-align: middle;\n",
       "    }\n",
       "\n",
       "    .dataframe tbody tr th {\n",
       "        vertical-align: top;\n",
       "    }\n",
       "\n",
       "    .dataframe thead th {\n",
       "        text-align: right;\n",
       "    }\n",
       "</style>\n",
       "<table border=\"1\" class=\"dataframe\">\n",
       "  <thead>\n",
       "    <tr style=\"text-align: right;\">\n",
       "      <th></th>\n",
       "      <th>variable</th>\n",
       "      <th>Importance</th>\n",
       "    </tr>\n",
       "  </thead>\n",
       "  <tbody>\n",
       "    <tr>\n",
       "      <th>0</th>\n",
       "      <td>Attr21</td>\n",
       "      <td>0.283531</td>\n",
       "    </tr>\n",
       "    <tr>\n",
       "      <th>5</th>\n",
       "      <td>Attr13</td>\n",
       "      <td>0.129177</td>\n",
       "    </tr>\n",
       "    <tr>\n",
       "      <th>2</th>\n",
       "      <td>Attr27</td>\n",
       "      <td>0.121069</td>\n",
       "    </tr>\n",
       "    <tr>\n",
       "      <th>8</th>\n",
       "      <td>Attr34</td>\n",
       "      <td>0.062377</td>\n",
       "    </tr>\n",
       "    <tr>\n",
       "      <th>16</th>\n",
       "      <td>Attr24</td>\n",
       "      <td>0.056794</td>\n",
       "    </tr>\n",
       "    <tr>\n",
       "      <th>1</th>\n",
       "      <td>Attr35</td>\n",
       "      <td>0.039367</td>\n",
       "    </tr>\n",
       "    <tr>\n",
       "      <th>10</th>\n",
       "      <td>Attr51</td>\n",
       "      <td>0.033864</td>\n",
       "    </tr>\n",
       "    <tr>\n",
       "      <th>9</th>\n",
       "      <td>Attr6</td>\n",
       "      <td>0.033529</td>\n",
       "    </tr>\n",
       "    <tr>\n",
       "      <th>3</th>\n",
       "      <td>Attr56</td>\n",
       "      <td>0.033342</td>\n",
       "    </tr>\n",
       "    <tr>\n",
       "      <th>4</th>\n",
       "      <td>Attr49</td>\n",
       "      <td>0.027695</td>\n",
       "    </tr>\n",
       "    <tr>\n",
       "      <th>6</th>\n",
       "      <td>Attr40</td>\n",
       "      <td>0.023876</td>\n",
       "    </tr>\n",
       "    <tr>\n",
       "      <th>7</th>\n",
       "      <td>Attr55</td>\n",
       "      <td>0.023446</td>\n",
       "    </tr>\n",
       "    <tr>\n",
       "      <th>12</th>\n",
       "      <td>Attr50</td>\n",
       "      <td>0.022241</td>\n",
       "    </tr>\n",
       "    <tr>\n",
       "      <th>19</th>\n",
       "      <td>Attr58</td>\n",
       "      <td>0.020616</td>\n",
       "    </tr>\n",
       "    <tr>\n",
       "      <th>14</th>\n",
       "      <td>Attr43</td>\n",
       "      <td>0.019730</td>\n",
       "    </tr>\n",
       "    <tr>\n",
       "      <th>11</th>\n",
       "      <td>Attr33</td>\n",
       "      <td>0.016118</td>\n",
       "    </tr>\n",
       "    <tr>\n",
       "      <th>13</th>\n",
       "      <td>Attr19</td>\n",
       "      <td>0.015482</td>\n",
       "    </tr>\n",
       "    <tr>\n",
       "      <th>17</th>\n",
       "      <td>Attr11</td>\n",
       "      <td>0.014496</td>\n",
       "    </tr>\n",
       "    <tr>\n",
       "      <th>18</th>\n",
       "      <td>Attr22</td>\n",
       "      <td>0.012456</td>\n",
       "    </tr>\n",
       "    <tr>\n",
       "      <th>15</th>\n",
       "      <td>Attr48</td>\n",
       "      <td>0.010795</td>\n",
       "    </tr>\n",
       "  </tbody>\n",
       "</table>\n",
       "</div>"
      ],
      "text/plain": [
       "   variable  Importance\n",
       "0    Attr21    0.283531\n",
       "5    Attr13    0.129177\n",
       "2    Attr27    0.121069\n",
       "8    Attr34    0.062377\n",
       "16   Attr24    0.056794\n",
       "1    Attr35    0.039367\n",
       "10   Attr51    0.033864\n",
       "9     Attr6    0.033529\n",
       "3    Attr56    0.033342\n",
       "4    Attr49    0.027695\n",
       "6    Attr40    0.023876\n",
       "7    Attr55    0.023446\n",
       "12   Attr50    0.022241\n",
       "19   Attr58    0.020616\n",
       "14   Attr43    0.019730\n",
       "11   Attr33    0.016118\n",
       "13   Attr19    0.015482\n",
       "17   Attr11    0.014496\n",
       "18   Attr22    0.012456\n",
       "15   Attr48    0.010795"
      ]
     },
     "execution_count": 34,
     "metadata": {},
     "output_type": "execute_result"
    }
   ],
   "source": [
    "feature.head(20)"
   ]
  },
  {
   "cell_type": "code",
   "execution_count": 53,
   "id": "7b32271a-4dcd-423a-84a4-1d64d675b3c9",
   "metadata": {},
   "outputs": [
    {
     "name": "stdout",
     "output_type": "stream",
     "text": [
      "0\n",
      "1\n",
      "2\n",
      "3\n",
      "4\n",
      "5\n",
      "6\n",
      "7\n",
      "8\n",
      "9\n",
      "10\n",
      "11\n",
      "12\n",
      "13\n",
      "14\n",
      "15\n",
      "16\n",
      "17\n",
      "18\n",
      "19\n"
     ]
    }
   ],
   "source": [
    "f1_train=[]\n",
    "f1_test=[]\n",
    "for i in range(x_sm.shape[1]):\n",
    "    print(i)\n",
    "    model_xgb = XGBClassifier(max_depth=9,\n",
    "                              min_child_weight=1,\n",
    "                              gamma=0.0,\n",
    "                              reg_alpha=1e-05,\n",
    "                              seed=42)\n",
    "    model_xgb.fit(x_sm[feature.variable.to_list()].iloc[:,:i+1],\n",
    "             y_sm)\n",
    "    y_pred_train = model_xgb.predict(x_sm[feature.variable.to_list()].iloc[:,:i+1])\n",
    "    y_pred_test = model_xgb.predict(x_test[feature.variable.to_list()].iloc[:,:i+1])\n",
    "    performance_train = classification_report(y_sm, y_pred_train, output_dict = True)\n",
    "    performance_test = classification_report(y_test, y_pred_test, output_dict = True)\n",
    "    f1_train.append(performance_train[\"macro avg\"][\"f1-score\"])\n",
    "    f1_test.append(performance_test[\"macro avg\"][\"f1-score\"])\n",
    "    if i == 19:\n",
    "        break\n",
    "    del model_xgb"
   ]
  },
  {
   "cell_type": "code",
   "execution_count": 54,
   "id": "451dfb40-55a7-4b43-89e3-6d32ccccfd8a",
   "metadata": {},
   "outputs": [
    {
     "name": "stdout",
     "output_type": "stream",
     "text": [
      "              precision    recall  f1-score   support\n",
      "\n",
      "           0       0.95      1.00      0.97      1100\n",
      "           1       0.96      0.30      0.46        82\n",
      "\n",
      "    accuracy                           0.95      1182\n",
      "   macro avg       0.96      0.65      0.72      1182\n",
      "weighted avg       0.95      0.95      0.94      1182\n",
      "\n",
      "Accuracy on testing :0.9509306260575296\n",
      "AUC of ROC on Testing :0.6519844789356984\n",
      "AUC of ROC on Train:0.6155681818181817\n",
      "AUC of ROC on Probability Train:0.7911198088842974\n",
      "AUC of ROC on Probability Test:0.7930654101995566\n",
      "TN :1099 \tFP :1 \tFN :57 \tTP :25\n",
      "Recall Score no Weihted: 0.3048780487804878\n",
      "Specifity Score :0.9990909090909091\n"
     ]
    },
    {
     "data": {
      "image/png": "[encoded data removed]",
      "text/plain": [
       "<Figure size 576x576 with 2 Axes>"
      ]
     },
     "metadata": {
      "needs_background": "light"
     },
     "output_type": "display_data"
    }
   ],
   "source": [
    "evaluate_model_testing(model_xgb,x_sm, y_sm, x_test,y_test)"
   ]
  },
  {
   "cell_type": "code",
   "execution_count": 48,
   "id": "b36672c8-cac5-4f68-9733-380398666f67",
   "metadata": {},
   "outputs": [
    {
     "data": {
      "text/plain": [
       "20"
      ]
     },
     "execution_count": 48,
     "metadata": {},
     "output_type": "execute_result"
    }
   ],
   "source": [
    "len(x_sm.columns)"
   ]
  },
  {
   "cell_type": "code",
   "execution_count": 49,
   "id": "53347cbc-6725-43d2-a7d1-6d2e2bc9f28f",
   "metadata": {},
   "outputs": [
    {
     "data": {
      "text/plain": [
       "(8800, 20)"
      ]
     },
     "execution_count": 49,
     "metadata": {},
     "output_type": "execute_result"
    }
   ],
   "source": [
    "x_sm.shape"
   ]
  },
  {
   "cell_type": "code",
   "execution_count": 50,
   "id": "4dbe30b4-c66b-4372-b9b1-8d6ef78b8bcb",
   "metadata": {},
   "outputs": [
    {
     "data": {
      "image/png": "[encoded data removed]",
      "text/plain": [
       "<Figure size 576x432 with 1 Axes>"
      ]
     },
     "metadata": {
      "needs_background": "light"
     },
     "output_type": "display_data"
    }
   ],
   "source": [
    "fig, ax = plt.subplots(figsize=(8,6))\n",
    "ax.plot(range(x_sm.shape[1]), f1_train, label=\"train\")\n",
    "ax.plot(range(x_sm.shape[1]), f1_test, label=\"test\")\n",
    "ax.axvline(\n",
    "      15, 0, 1, color='g', label=\"optimum\",\n",
    "      linestyle=\"--\", linewidth=0.8\n",
    "      )\n",
    "ax.legend(loc='upper left')\n",
    "ax.set_xlabel('number of predictors')\n",
    "ax.set_ylabel('F1_Score');"
   ]
  },
  {
   "cell_type": "markdown",
   "id": "545d75c0-9d95-44f4-ab84-c930b2e76136",
   "metadata": {},
   "source": [
    "**COMMENT**:\n",
    "    \n",
    "Dari model yang sudah dituning, dilakukan ekserimentasi untuk memilih variable lagi.\n",
    "20 variable yang telah dipilih sebelumnya bisa jadi bukan nilai optimal.\n",
    "Langkah yang dilakukan:\n",
    "\n",
    "1. Melihat nilai importance dari model tuning, dan diurutkan dari dari paling top ke bawah\n",
    "2. Kita coba plot performa model saat memprediksi data train dan test dari setiap jumlah variable yang difitting ke model.\n",
    "\n",
    "Hasilnya bahwa, 16 variable merupakan jumlah paling optimal, karena mendapat nilai score paling baik, lebih dari itu peforma data test maah turun."
   ]
  },
  {
   "cell_type": "code",
   "execution_count": 51,
   "id": "09cff9fc-228b-41f7-9090-c88fbf31e37d",
   "metadata": {},
   "outputs": [
    {
     "data": {
      "text/plain": [
       "0.805554219825219"
      ]
     },
     "execution_count": 51,
     "metadata": {},
     "output_type": "execute_result"
    }
   ],
   "source": [
    "f1_test[19]"
   ]
  },
  {
   "cell_type": "code",
   "execution_count": 43,
   "id": "8ba411ef-226c-4e6f-8c64-b7cef19aa6f6",
   "metadata": {},
   "outputs": [
    {
     "data": {
      "text/plain": [
       "0.9998863636348961"
      ]
     },
     "execution_count": 43,
     "metadata": {},
     "output_type": "execute_result"
    }
   ],
   "source": [
    "f1_train[16-1]"
   ]
  },
  {
   "cell_type": "code",
   "execution_count": 44,
   "id": "14f22919-376f-42d5-a1bf-d21761cbbcca",
   "metadata": {},
   "outputs": [
    {
     "data": {
      "text/html": [
       "<div>\n",
       "<style scoped>\n",
       "    .dataframe tbody tr th:only-of-type {\n",
       "        vertical-align: middle;\n",
       "    }\n",
       "\n",
       "    .dataframe tbody tr th {\n",
       "        vertical-align: top;\n",
       "    }\n",
       "\n",
       "    .dataframe thead th {\n",
       "        text-align: right;\n",
       "    }\n",
       "</style>\n",
       "<table border=\"1\" class=\"dataframe\">\n",
       "  <thead>\n",
       "    <tr style=\"text-align: right;\">\n",
       "      <th></th>\n",
       "      <th>Attr21</th>\n",
       "      <th>Attr13</th>\n",
       "      <th>Attr27</th>\n",
       "      <th>Attr34</th>\n",
       "      <th>Attr24</th>\n",
       "      <th>Attr35</th>\n",
       "      <th>Attr51</th>\n",
       "      <th>Attr6</th>\n",
       "      <th>Attr56</th>\n",
       "      <th>Attr49</th>\n",
       "      <th>Attr40</th>\n",
       "      <th>Attr55</th>\n",
       "      <th>Attr50</th>\n",
       "      <th>Attr58</th>\n",
       "      <th>Attr43</th>\n",
       "    </tr>\n",
       "  </thead>\n",
       "  <tbody>\n",
       "    <tr>\n",
       "      <th>0</th>\n",
       "      <td>0.129515</td>\n",
       "      <td>-0.007583</td>\n",
       "      <td>0.255156</td>\n",
       "      <td>0.056415</td>\n",
       "      <td>0.149232</td>\n",
       "      <td>0.020572</td>\n",
       "      <td>0.020572</td>\n",
       "      <td>0.020572</td>\n",
       "      <td>-0.000772</td>\n",
       "      <td>0.044325</td>\n",
       "      <td>0.060071</td>\n",
       "      <td>0.964337</td>\n",
       "      <td>0.056415</td>\n",
       "      <td>-0.014070</td>\n",
       "      <td>-0.097285</td>\n",
       "    </tr>\n",
       "    <tr>\n",
       "      <th>1</th>\n",
       "      <td>0.129515</td>\n",
       "      <td>-0.013552</td>\n",
       "      <td>0.255156</td>\n",
       "      <td>0.056415</td>\n",
       "      <td>0.149232</td>\n",
       "      <td>0.020572</td>\n",
       "      <td>0.020572</td>\n",
       "      <td>0.020572</td>\n",
       "      <td>-0.131874</td>\n",
       "      <td>0.000731</td>\n",
       "      <td>0.060071</td>\n",
       "      <td>-0.124906</td>\n",
       "      <td>0.056415</td>\n",
       "      <td>0.097191</td>\n",
       "      <td>-0.110564</td>\n",
       "    </tr>\n",
       "    <tr>\n",
       "      <th>2</th>\n",
       "      <td>0.129515</td>\n",
       "      <td>-0.009147</td>\n",
       "      <td>0.255156</td>\n",
       "      <td>0.056415</td>\n",
       "      <td>0.149232</td>\n",
       "      <td>0.020572</td>\n",
       "      <td>0.020572</td>\n",
       "      <td>0.020572</td>\n",
       "      <td>0.129706</td>\n",
       "      <td>0.083951</td>\n",
       "      <td>0.060071</td>\n",
       "      <td>-0.105397</td>\n",
       "      <td>0.056415</td>\n",
       "      <td>-0.091788</td>\n",
       "      <td>-0.018349</td>\n",
       "    </tr>\n",
       "    <tr>\n",
       "      <th>3</th>\n",
       "      <td>0.129515</td>\n",
       "      <td>-0.011208</td>\n",
       "      <td>0.255156</td>\n",
       "      <td>0.056415</td>\n",
       "      <td>0.149232</td>\n",
       "      <td>0.020572</td>\n",
       "      <td>0.020572</td>\n",
       "      <td>0.020572</td>\n",
       "      <td>0.033181</td>\n",
       "      <td>0.051449</td>\n",
       "      <td>0.060071</td>\n",
       "      <td>-0.128214</td>\n",
       "      <td>0.056415</td>\n",
       "      <td>-0.022678</td>\n",
       "      <td>-0.126752</td>\n",
       "    </tr>\n",
       "    <tr>\n",
       "      <th>4</th>\n",
       "      <td>0.129515</td>\n",
       "      <td>-0.005787</td>\n",
       "      <td>0.255156</td>\n",
       "      <td>0.056415</td>\n",
       "      <td>0.149232</td>\n",
       "      <td>0.020572</td>\n",
       "      <td>0.020572</td>\n",
       "      <td>0.020572</td>\n",
       "      <td>0.169454</td>\n",
       "      <td>0.088773</td>\n",
       "      <td>0.060071</td>\n",
       "      <td>0.106540</td>\n",
       "      <td>0.056415</td>\n",
       "      <td>-0.158476</td>\n",
       "      <td>-0.077133</td>\n",
       "    </tr>\n",
       "  </tbody>\n",
       "</table>\n",
       "</div>"
      ],
      "text/plain": [
       "     Attr21    Attr13    Attr27    Attr34    Attr24    Attr35    Attr51  \\\n",
       "0  0.129515 -0.007583  0.255156  0.056415  0.149232  0.020572  0.020572   \n",
       "1  0.129515 -0.013552  0.255156  0.056415  0.149232  0.020572  0.020572   \n",
       "2  0.129515 -0.009147  0.255156  0.056415  0.149232  0.020572  0.020572   \n",
       "3  0.129515 -0.011208  0.255156  0.056415  0.149232  0.020572  0.020572   \n",
       "4  0.129515 -0.005787  0.255156  0.056415  0.149232  0.020572  0.020572   \n",
       "\n",
       "      Attr6    Attr56    Attr49    Attr40    Attr55    Attr50    Attr58  \\\n",
       "0  0.020572 -0.000772  0.044325  0.060071  0.964337  0.056415 -0.014070   \n",
       "1  0.020572 -0.131874  0.000731  0.060071 -0.124906  0.056415  0.097191   \n",
       "2  0.020572  0.129706  0.083951  0.060071 -0.105397  0.056415 -0.091788   \n",
       "3  0.020572  0.033181  0.051449  0.060071 -0.128214  0.056415 -0.022678   \n",
       "4  0.020572  0.169454  0.088773  0.060071  0.106540  0.056415 -0.158476   \n",
       "\n",
       "     Attr43  \n",
       "0 -0.097285  \n",
       "1 -0.110564  \n",
       "2 -0.018349  \n",
       "3 -0.126752  \n",
       "4 -0.077133  "
      ]
     },
     "execution_count": 44,
     "metadata": {},
     "output_type": "execute_result"
    }
   ],
   "source": [
    "x_sm[feature.variable.to_list()].iloc[:,:15].head()"
   ]
  },
  {
   "cell_type": "code",
   "execution_count": 45,
   "id": "fb54521a-32a6-48d7-8722-d7ebb0698189",
   "metadata": {},
   "outputs": [
    {
     "data": {
      "text/html": [
       "<style>#sk-container-id-3 {color: black;background-color: white;}#sk-container-id-3 pre{padding: 0;}#sk-container-id-3 div.sk-toggleable {background-color: white;}#sk-container-id-3 label.sk-toggleable__label {cursor: pointer;display: block;width: 100%;margin-bottom: 0;padding: 0.3em;box-sizing: border-box;text-align: center;}#sk-container-id-3 label.sk-toggleable__label-arrow:before {content: \"▸\";float: left;margin-right: 0.25em;color: #696969;}#sk-container-id-3 label.sk-toggleable__label-arrow:hover:before {color: black;}#sk-container-id-3 div.sk-estimator:hover label.sk-toggleable__label-arrow:before {color: black;}#sk-container-id-3 div.sk-toggleable__content {max-height: 0;max-width: 0;overflow: hidden;text-align: left;background-color: #f0f8ff;}#sk-container-id-3 div.sk-toggleable__content pre {margin: 0.2em;color: black;border-radius: 0.25em;background-color: #f0f8ff;}#sk-container-id-3 input.sk-toggleable__control:checked~div.sk-toggleable__content {max-height: 200px;max-width: 100%;overflow: auto;}#sk-container-id-3 input.sk-toggleable__control:checked~label.sk-toggleable__label-arrow:before {content: \"▾\";}#sk-container-id-3 div.sk-estimator input.sk-toggleable__control:checked~label.sk-toggleable__label {background-color: #d4ebff;}#sk-container-id-3 div.sk-label input.sk-toggleable__control:checked~label.sk-toggleable__label {background-color: #d4ebff;}#sk-container-id-3 input.sk-hidden--visually {border: 0;clip: rect(1px 1px 1px 1px);clip: rect(1px, 1px, 1px, 1px);height: 1px;margin: -1px;overflow: hidden;padding: 0;position: absolute;width: 1px;}#sk-container-id-3 div.sk-estimator {font-family: monospace;background-color: #f0f8ff;border: 1px dotted black;border-radius: 0.25em;box-sizing: border-box;margin-bottom: 0.5em;}#sk-container-id-3 div.sk-estimator:hover {background-color: #d4ebff;}#sk-container-id-3 div.sk-parallel-item::after {content: \"\";width: 100%;border-bottom: 1px solid gray;flex-grow: 1;}#sk-container-id-3 div.sk-label:hover label.sk-toggleable__label {background-color: #d4ebff;}#sk-container-id-3 div.sk-serial::before {content: \"\";position: absolute;border-left: 1px solid gray;box-sizing: border-box;top: 0;bottom: 0;left: 50%;z-index: 0;}#sk-container-id-3 div.sk-serial {display: flex;flex-direction: column;align-items: center;background-color: white;padding-right: 0.2em;padding-left: 0.2em;position: relative;}#sk-container-id-3 div.sk-item {position: relative;z-index: 1;}#sk-container-id-3 div.sk-parallel {display: flex;align-items: stretch;justify-content: center;background-color: white;position: relative;}#sk-container-id-3 div.sk-item::before, #sk-container-id-3 div.sk-parallel-item::before {content: \"\";position: absolute;border-left: 1px solid gray;box-sizing: border-box;top: 0;bottom: 0;left: 50%;z-index: -1;}#sk-container-id-3 div.sk-parallel-item {display: flex;flex-direction: column;z-index: 1;position: relative;background-color: white;}#sk-container-id-3 div.sk-parallel-item:first-child::after {align-self: flex-end;width: 50%;}#sk-container-id-3 div.sk-parallel-item:last-child::after {align-self: flex-start;width: 50%;}#sk-container-id-3 div.sk-parallel-item:only-child::after {width: 0;}#sk-container-id-3 div.sk-dashed-wrapped {border: 1px dashed gray;margin: 0 0.4em 0.5em 0.4em;box-sizing: border-box;padding-bottom: 0.4em;background-color: white;}#sk-container-id-3 div.sk-label label {font-family: monospace;font-weight: bold;display: inline-block;line-height: 1.2em;}#sk-container-id-3 div.sk-label-container {text-align: center;}#sk-container-id-3 div.sk-container {/* jupyter's `normalize.less` sets `[hidden] { display: none; }` but bootstrap.min.css set `[hidden] { display: none !important; }` so we also need the `!important` here to be able to override the default hidden behavior on the sphinx rendered scikit-learn.org. See: https://github.com/scikit-learn/scikit-learn/issues/21755 */display: inline-block !important;position: relative;}#sk-container-id-3 div.sk-text-repr-fallback {display: none;}</style><div id=\"sk-container-id-3\" class=\"sk-top-container\"><div class=\"sk-text-repr-fallback\"><pre>XGBClassifier(base_score=0.5, booster=&#x27;gbtree&#x27;, callbacks=None,\n",
       "              colsample_bylevel=1, colsample_bynode=1, colsample_bytree=1,\n",
       "              early_stopping_rounds=None, enable_categorical=False,\n",
       "              eval_metric=None, gamma=0.0, gpu_id=-1, grow_policy=&#x27;depthwise&#x27;,\n",
       "              importance_type=None, interaction_constraints=&#x27;&#x27;,\n",
       "              learning_rate=0.300000012, max_bin=256, max_cat_to_onehot=4,\n",
       "              max_delta_step=0, max_depth=9, max_leaves=0, min_child_weight=1,\n",
       "              missing=nan, monotone_constraints=&#x27;()&#x27;, n_estimators=100,\n",
       "              n_jobs=0, num_parallel_tree=1, predictor=&#x27;auto&#x27;, random_state=42,\n",
       "              reg_alpha=1e-05, reg_lambda=1, ...)</pre><b>In a Jupyter environment, please rerun this cell to show the HTML representation or trust the notebook. <br />On GitHub, the HTML representation is unable to render, please try loading this page with nbviewer.org.</b></div><div class=\"sk-container\" hidden><div class=\"sk-item\"><div class=\"sk-estimator sk-toggleable\"><input class=\"sk-toggleable__control sk-hidden--visually\" id=\"sk-estimator-id-3\" type=\"checkbox\" checked><label for=\"sk-estimator-id-3\" class=\"sk-toggleable__label sk-toggleable__label-arrow\">XGBClassifier</label><div class=\"sk-toggleable__content\"><pre>XGBClassifier(base_score=0.5, booster=&#x27;gbtree&#x27;, callbacks=None,\n",
       "              colsample_bylevel=1, colsample_bynode=1, colsample_bytree=1,\n",
       "              early_stopping_rounds=None, enable_categorical=False,\n",
       "              eval_metric=None, gamma=0.0, gpu_id=-1, grow_policy=&#x27;depthwise&#x27;,\n",
       "              importance_type=None, interaction_constraints=&#x27;&#x27;,\n",
       "              learning_rate=0.300000012, max_bin=256, max_cat_to_onehot=4,\n",
       "              max_delta_step=0, max_depth=9, max_leaves=0, min_child_weight=1,\n",
       "              missing=nan, monotone_constraints=&#x27;()&#x27;, n_estimators=100,\n",
       "              n_jobs=0, num_parallel_tree=1, predictor=&#x27;auto&#x27;, random_state=42,\n",
       "              reg_alpha=1e-05, reg_lambda=1, ...)</pre></div></div></div></div></div>"
      ],
      "text/plain": [
       "XGBClassifier(base_score=0.5, booster='gbtree', callbacks=None,\n",
       "              colsample_bylevel=1, colsample_bynode=1, colsample_bytree=1,\n",
       "              early_stopping_rounds=None, enable_categorical=False,\n",
       "              eval_metric=None, gamma=0.0, gpu_id=-1, grow_policy='depthwise',\n",
       "              importance_type=None, interaction_constraints='',\n",
       "              learning_rate=0.300000012, max_bin=256, max_cat_to_onehot=4,\n",
       "              max_delta_step=0, max_depth=9, max_leaves=0, min_child_weight=1,\n",
       "              missing=nan, monotone_constraints='()', n_estimators=100,\n",
       "              n_jobs=0, num_parallel_tree=1, predictor='auto', random_state=42,\n",
       "              reg_alpha=1e-05, reg_lambda=1, ...)"
      ]
     },
     "execution_count": 45,
     "metadata": {},
     "output_type": "execute_result"
    }
   ],
   "source": [
    "xgb = XGBClassifier(\n",
    " max_depth=9,\n",
    " min_child_weight=1,\n",
    " gamma=0.0,\n",
    " reg_alpha=1e-05,\n",
    " seed=42)\n",
    "xgb.fit(x_sm[feature.variable.to_list()].iloc[:,:15], \n",
    "        y_sm)"
   ]
  },
  {
   "cell_type": "code",
   "execution_count": 46,
   "id": "ec1ecf6e-6c49-4740-b466-0202d470839e",
   "metadata": {},
   "outputs": [
    {
     "name": "stdout",
     "output_type": "stream",
     "text": [
      "              precision    recall  f1-score   support\n",
      "\n",
      "           0       0.98      0.96      0.97      1100\n",
      "           1       0.57      0.72      0.64        82\n",
      "\n",
      "    accuracy                           0.94      1182\n",
      "   macro avg       0.78      0.84      0.80      1182\n",
      "weighted avg       0.95      0.94      0.95      1182\n",
      "\n",
      "Accuracy on testing :0.94331641285956\n",
      "AUC of ROC on Testing :0.8397560975609756\n",
      "AUC of ROC on Train:0.9998863636363636\n",
      "AUC of ROC on Probability Train:0.9999999741735537\n",
      "AUC of ROC on Probability Test:0.9405543237250554\n",
      "TN :1056 \tFP :44 \tFN :23 \tTP :59\n",
      "Recall Score no Weihted: 0.7195121951219512\n",
      "Specifity Score :0.96\n"
     ]
    },
    {
     "data": {
      "image/png": "[encoded data removed]",
      "text/plain": [
       "<Figure size 576x576 with 2 Axes>"
      ]
     },
     "metadata": {
      "needs_background": "light"
     },
     "output_type": "display_data"
    }
   ],
   "source": [
    "evaluate_model_testing(xgb,\n",
    "                       x_sm[feature.variable.to_list()].iloc[:,:15], \n",
    "                       y_sm, \n",
    "                       x_test[feature.variable.to_list()].iloc[:,:15],\n",
    "                       y_test)"
   ]
  },
  {
   "cell_type": "markdown",
   "id": "ab0eebc5-4750-49f7-889d-dc418ea2f0cb",
   "metadata": {},
   "source": [
    "**COMMENT**:\n",
    "\n",
    "16 Variable utama dimodelkan lagi, dan mendapatkan nilai metrics:\n",
    "\n",
    "1. F1 score 0.80 < 0.81 (model sebelumnya)\n",
    "2. Recall avg 0.84 == 0.84 (model sebelumnya)\n",
    "3. Precision avg 0.78 == 0.78  (model sebelumnya)\n",
    "\n",
    "Terlihat cenderung tidak ada perubahan, F1 score turun 0.01.\n",
    "Namun kabar baiknya, model menjadi lebih simple dan komputasi lebih ringan, karena dari 20 variable menjadi 16 variable. Dengan variable lebih sedikit namun peforma cenderung sama.\n",
    "\n",
    "Ada istilah curse dimensionality in machine learning, Curse of Dimensionality describes the explosive nature of increasing data dimensions and its resulting exponential increase in computational efforts required for its processing and/or analysis."
   ]
  },
  {
   "cell_type": "code",
   "execution_count": 292,
   "id": "b7c23c1d-a7b1-4378-b506-4f8a5d9d390a",
   "metadata": {},
   "outputs": [],
   "source": [
    "import joblib\n",
    "\n",
    "joblib.dump(xgb, \"../4_models/xgb_notebook.pkl\")"
   ]
  },
  {
   "cell_type": "code",
   "execution_count": null,
   "id": "339597ed-3fca-4c2b-aeab-6637c09501dc",
   "metadata": {},
   "outputs": [],
   "source": []
  }
 ],
 "metadata": {
  "kernelspec": {
   "display_name": "Python 3 (ipykernel)",
   "language": "python",
   "name": "python3"
  },
  "language_info": {
   "codemirror_mode": {
    "name": "ipython",
    "version": 3
   },
   "file_extension": ".py",
   "mimetype": "text/x-python",
   "name": "python",
   "nbconvert_exporter": "python",
   "pygments_lexer": "ipython3",
   "version": "3.9.13"
  }
 },
 "nbformat": 4,
 "nbformat_minor": 5
}
